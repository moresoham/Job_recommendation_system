{
 "cells": [
  {
   "cell_type": "markdown",
   "metadata": {
    "colab_type": "text",
    "id": "7W4SdUNz-jiX"
   },
   "source": [
    "# Pre-requisites"
   ]
  },
  {
   "cell_type": "markdown",
   "metadata": {
    "colab_type": "text",
    "id": "tpuZ3BhE-oKl"
   },
   "source": [
    "**Import libraries**"
   ]
  },
  {
   "cell_type": "code",
   "execution_count": 134,
   "metadata": {
    "colab": {
     "base_uri": "https://localhost:8080/",
     "height": 118
    },
    "colab_type": "code",
    "id": "-aONqzK1beLj",
    "outputId": "d2b453fb-3da7-48db-cfbf-65e5545fe54f"
   },
   "outputs": [
    {
     "name": "stdout",
     "output_type": "stream",
     "text": [
      "[nltk_data] Downloading package stopwords to /root/nltk_data...\n",
      "[nltk_data]   Package stopwords is already up-to-date!\n",
      "[nltk_data] Downloading package punkt to /root/nltk_data...\n",
      "[nltk_data]   Package punkt is already up-to-date!\n",
      "[nltk_data] Downloading package wordnet to /root/nltk_data...\n",
      "[nltk_data]   Package wordnet is already up-to-date!\n"
     ]
    }
   ],
   "source": [
    "import pickle\n",
    "import numpy as np # linear algebra\n",
    "import pandas as pd # data processing, CSV file I/O (e.g. pd.read_csv)\n",
    "from sklearn.feature_extraction import DictVectorizer\n",
    "from sklearn.feature_extraction.text import CountVectorizer\n",
    "from sklearn.model_selection import train_test_split\n",
    "\n",
    "#Plotting\n",
    "import matplotlib.pyplot as plt\n",
    "\n",
    "# Natural Language Toolkit\n",
    "import nltk\n",
    "nltk.download('stopwords')\n",
    "nltk.download('punkt')\n",
    "nltk.download('wordnet')\n",
    "\n",
    "from nltk.corpus import stopwords\n",
    "from sklearn.preprocessing import LabelEncoder\n",
    "from sklearn.mixture import GaussianMixture\n",
    "from sklearn.cluster import KMeans\n",
    "from sklearn.metrics import accuracy_score, auc, roc_curve, roc_auc_score,confusion_matrix, classification_report,f1_score\n",
    "\n",
    "from sklearn.feature_extraction.text import TfidfVectorizer\n",
    "\n",
    "#Traditional ML Models\n",
    "from sklearn.naive_bayes import GaussianNB\n",
    "from sklearn.linear_model import LogisticRegression\n",
    "from sklearn.ensemble import RandomForestClassifier"
   ]
  },
  {
   "cell_type": "markdown",
   "metadata": {
    "colab_type": "text",
    "id": "399lcAnH4bNp"
   },
   "source": [
    "**Deep Learning Libs**"
   ]
  },
  {
   "cell_type": "code",
   "execution_count": 0,
   "metadata": {
    "colab": {},
    "colab_type": "code",
    "id": "ZbccrLO9i4jL"
   },
   "outputs": [],
   "source": [
    "from keras.models import Sequential\n",
    "from keras.layers import Dense\n",
    "from keras.layers import Dropout\n",
    "from keras import optimizers\n",
    "from keras.utils import plot_model"
   ]
  },
  {
   "cell_type": "markdown",
   "metadata": {
    "colab_type": "text",
    "id": "g1_SHPWJ4s81"
   },
   "source": [
    "**Read Dataset**"
   ]
  },
  {
   "cell_type": "code",
   "execution_count": 0,
   "metadata": {
    "colab": {
     "base_uri": "https://localhost:8080/",
     "height": 380
    },
    "colab_type": "code",
    "id": "KoEkOPrgcEoS",
    "outputId": "3b6eba12-afb4-44ee-b6e7-9f059d65a102"
   },
   "outputs": [
    {
     "name": "stdout",
     "output_type": "stream",
     "text": [
      "Index(['jobpost', 'date', 'Title', 'Company', 'AnnouncementCode', 'Term',\n",
      "       'Eligibility', 'Audience', 'StartDate', 'Duration', 'Location',\n",
      "       'JobDescription', 'JobRequirment', 'RequiredQual', 'Salary',\n",
      "       'ApplicationP', 'OpeningDate', 'Deadline', 'Notes', 'AboutC', 'Attach',\n",
      "       'Year', 'Month', 'IT'],\n",
      "      dtype='object')\n"
     ]
    },
    {
     "data": {
      "text/html": [
       "<div>\n",
       "<style scoped>\n",
       "    .dataframe tbody tr th:only-of-type {\n",
       "        vertical-align: middle;\n",
       "    }\n",
       "\n",
       "    .dataframe tbody tr th {\n",
       "        vertical-align: top;\n",
       "    }\n",
       "\n",
       "    .dataframe thead th {\n",
       "        text-align: right;\n",
       "    }\n",
       "</style>\n",
       "<table border=\"1\" class=\"dataframe\">\n",
       "  <thead>\n",
       "    <tr style=\"text-align: right;\">\n",
       "      <th></th>\n",
       "      <th>RequiredQual</th>\n",
       "      <th>Eligibility</th>\n",
       "      <th>Title</th>\n",
       "      <th>JobDescription</th>\n",
       "      <th>JobRequirment</th>\n",
       "    </tr>\n",
       "  </thead>\n",
       "  <tbody>\n",
       "    <tr>\n",
       "      <th>4</th>\n",
       "      <td>- University degree; economical background is ...</td>\n",
       "      <td>NaN</td>\n",
       "      <td>Software Developer</td>\n",
       "      <td>NaN</td>\n",
       "      <td>- Rendering technical assistance to Database M...</td>\n",
       "    </tr>\n",
       "    <tr>\n",
       "      <th>15</th>\n",
       "      <td>- Excellent knowledge of Windows 2000 Server, ...</td>\n",
       "      <td>NaN</td>\n",
       "      <td>Network Administrator</td>\n",
       "      <td>NaN</td>\n",
       "      <td>- Network monitoring and administration;\\r\\n- ...</td>\n",
       "    </tr>\n",
       "    <tr>\n",
       "      <th>19</th>\n",
       "      <td>As a GD you are creative, innovative and have\\...</td>\n",
       "      <td>NaN</td>\n",
       "      <td>Graphic Designer</td>\n",
       "      <td>The position of Graphic Designer (GD) demands ...</td>\n",
       "      <td>Graphic Designer will be responsible for every...</td>\n",
       "    </tr>\n",
       "    <tr>\n",
       "      <th>34</th>\n",
       "      <td>Participants should be mid-level professionals...</td>\n",
       "      <td>NaN</td>\n",
       "      <td>Demographic Analysis Workshop</td>\n",
       "      <td>NaN</td>\n",
       "      <td>NaN</td>\n",
       "    </tr>\n",
       "    <tr>\n",
       "      <th>35</th>\n",
       "      <td>- Work experience of at least two years; \\r\\n-...</td>\n",
       "      <td>NaN</td>\n",
       "      <td>Programmer</td>\n",
       "      <td>NaN</td>\n",
       "      <td>NaN</td>\n",
       "    </tr>\n",
       "  </tbody>\n",
       "</table>\n",
       "</div>"
      ],
      "text/plain": [
       "                                         RequiredQual  ...                                      JobRequirment\n",
       "4   - University degree; economical background is ...  ...  - Rendering technical assistance to Database M...\n",
       "15  - Excellent knowledge of Windows 2000 Server, ...  ...  - Network monitoring and administration;\\r\\n- ...\n",
       "19  As a GD you are creative, innovative and have\\...  ...  Graphic Designer will be responsible for every...\n",
       "34  Participants should be mid-level professionals...  ...                                                NaN\n",
       "35  - Work experience of at least two years; \\r\\n-...  ...                                                NaN\n",
       "\n",
       "[5 rows x 5 columns]"
      ]
     },
     "execution_count": 5,
     "metadata": {
      "tags": []
     },
     "output_type": "execute_result"
    }
   ],
   "source": [
    "data = pd.read_csv('jobs_dataset.csv')\n",
    "print(data.columns)\n",
    "# selecting only IT Jobs\n",
    "df = data[data['IT']]\n",
    "# selecting \n",
    "cols = ['RequiredQual', 'Eligibility', 'Title', 'JobDescription', 'JobRequirment']\n",
    "df=df[cols]\n",
    "df.head(5)"
   ]
  },
  {
   "cell_type": "markdown",
   "metadata": {
    "colab_type": "text",
    "id": "0jUIYHJd_0u5"
   },
   "source": [
    "**Get count of all job titles**"
   ]
  },
  {
   "cell_type": "code",
   "execution_count": 0,
   "metadata": {
    "colab": {
     "base_uri": "https://localhost:8080/",
     "height": 218
    },
    "colab_type": "code",
    "id": "MZ006cG-_bgq",
    "outputId": "79f24e48-bf13-4f19-a0d8-109919a8a1b3"
   },
   "outputs": [
    {
     "name": "stdout",
     "output_type": "stream",
     "text": [
      "Software Developer                         134\n",
      "Web Developer                              101\n",
      "Java Developer                              88\n",
      "Graphic Designer                            75\n",
      "Software Engineer                           69\n",
      "                                          ... \n",
      "Senior Technical Support Engineer            1\n",
      "Senior OpenGl ES Developer                   1\n",
      "Senior Mobile Developer                      1\n",
      "NSS/IP Engineer                              1\n",
      "C++ Senior Software Developer (Windows)      1\n",
      "Name: Title, Length: 1272, dtype: int64\n"
     ]
    }
   ],
   "source": [
    "classes = df['Title'].value_counts()\n",
    "print(classes)"
   ]
  },
  {
   "cell_type": "markdown",
   "metadata": {
    "colab_type": "text",
    "id": "1il1jNc54zoI"
   },
   "source": [
    "**Modifying Job Titles\n",
    "Selecting only top 21 job titles, to manage class imbalance**"
   ]
  },
  {
   "cell_type": "code",
   "execution_count": 0,
   "metadata": {
    "colab": {
     "base_uri": "https://localhost:8080/",
     "height": 386
    },
    "colab_type": "code",
    "id": "lyAUcuX-cILl",
    "outputId": "ea7f89d2-a2a6-4ea8-fe17-bcefee14e45a"
   },
   "outputs": [
    {
     "data": {
      "text/plain": [
       "Software Developer           134\n",
       "Web Developer                101\n",
       "Java Developer                88\n",
       "Graphic Designer              75\n",
       "Senior Java Developer         69\n",
       "Software Engineer             69\n",
       "PHP Developer                 65\n",
       "Senior Software Engineer      63\n",
       "Programmer                    56\n",
       "IT Specialist                 55\n",
       "Senior QA Engineer            43\n",
       "Senior Software Developer     41\n",
       "Android Developer             37\n",
       ".NET Developer                36\n",
       "Senior .NET Developer         34\n",
       "Senior PHP Developer          34\n",
       "iOS Developer                 31\n",
       "Database Developer            29\n",
       "Software QA Engineer          29\n",
       "Senior Web Developer          29\n",
       "Database Administrator        28\n",
       "Name: Title, dtype: int64"
      ]
     },
     "execution_count": 37,
     "metadata": {
      "tags": []
     },
     "output_type": "execute_result"
    }
   ],
   "source": [
    "classes = df['Title'].value_counts()[:21]\n",
    "keys = classes.keys().to_list()\n",
    "\n",
    "df = df[df['Title'].isin(keys)]\n",
    "df['Title'].value_counts()"
   ]
  },
  {
   "cell_type": "markdown",
   "metadata": {
    "colab_type": "text",
    "id": "rJtmr-c9AGJu"
   },
   "source": [
    "**Change job titles to base title. For example, changing Senior Java Developer to Java Developer**"
   ]
  },
  {
   "cell_type": "code",
   "execution_count": 0,
   "metadata": {
    "colab": {
     "base_uri": "https://localhost:8080/",
     "height": 269
    },
    "colab_type": "code",
    "id": "yuZ4pjapdIzx",
    "outputId": "7a2acb20-40f2-4694-bae3-f56efb005821"
   },
   "outputs": [
    {
     "data": {
      "text/plain": [
       "Java Developer          157\n",
       "Software Developer      134\n",
       "Software Engineer       132\n",
       "Web Developer           130\n",
       "PHP Developer            99\n",
       "Graphic Designer         75\n",
       "Software QA Engineer     72\n",
       ".NET Developer           70\n",
       "Database Admin/Dev       57\n",
       "Programmer               56\n",
       "IT Specialist            55\n",
       "Senior Web Developer     41\n",
       "Android Developer        37\n",
       "iOS Developer            31\n",
       "Name: Title, dtype: int64"
      ]
     },
     "execution_count": 11,
     "metadata": {
      "tags": []
     },
     "output_type": "execute_result"
    }
   ],
   "source": [
    "def chane_titles(x):\n",
    "    x = x.strip()\n",
    "    if x == 'Senior Java Developer':\n",
    "        return 'Java Developer'\n",
    "    elif x == 'Senior Software Engineer':\n",
    "        return 'Software Engineer'\n",
    "    elif x == 'Senior QA Engineer':\n",
    "        return 'Software QA Engineer'\n",
    "    elif x == 'Senior Software Developer':\n",
    "        return 'Senior Web Developer'\n",
    "    elif x =='Senior PHP Developer':\n",
    "        return 'PHP Developer'\n",
    "    elif x == 'Senior .NET Developer':\n",
    "        return '.NET Developer'\n",
    "    elif x == 'Senior Web Developer':\n",
    "        return 'Web Developer'\n",
    "    elif x == 'Database Administrator':\n",
    "        return 'Database Admin/Dev'\n",
    "    elif x == 'Database Developer':\n",
    "        return 'Database Admin/Dev'\n",
    "\n",
    "    else:\n",
    "        return x\n",
    "        \n",
    "    \n",
    "df['Title'] = df['Title'].apply(chane_titles)\n",
    "df['Title'].value_counts()"
   ]
  },
  {
   "cell_type": "code",
   "execution_count": 0,
   "metadata": {
    "colab": {},
    "colab_type": "code",
    "id": "17MwuLVlKuRt"
   },
   "outputs": [],
   "source": [
    "df.to_csv('processed_jobs_dataset.csv')"
   ]
  },
  {
   "cell_type": "code",
   "execution_count": 0,
   "metadata": {
    "colab": {},
    "colab_type": "code",
    "id": "b2QKVTPu0zF3"
   },
   "outputs": [],
   "source": [
    "df = pd.read_csv('processed_jobs_dataset.csv')"
   ]
  },
  {
   "cell_type": "markdown",
   "metadata": {
    "colab_type": "text",
    "id": "6fb8NjymdL7k"
   },
   "source": [
    "# Preprocess: Building custom tokenizer to process text"
   ]
  },
  {
   "cell_type": "code",
   "execution_count": 175,
   "metadata": {
    "colab": {
     "base_uri": "https://localhost:8080/",
     "height": 296
    },
    "colab_type": "code",
    "id": "IskUnc9BPyX_",
    "outputId": "9d7b02ca-f6fe-4b17-9d88-8a8cc98913bd"
   },
   "outputs": [
    {
     "data": {
      "text/html": [
       "<div>\n",
       "<style scoped>\n",
       "    .dataframe tbody tr th:only-of-type {\n",
       "        vertical-align: middle;\n",
       "    }\n",
       "\n",
       "    .dataframe tbody tr th {\n",
       "        vertical-align: top;\n",
       "    }\n",
       "\n",
       "    .dataframe thead th {\n",
       "        text-align: right;\n",
       "    }\n",
       "</style>\n",
       "<table border=\"1\" class=\"dataframe\">\n",
       "  <thead>\n",
       "    <tr style=\"text-align: right;\">\n",
       "      <th></th>\n",
       "      <th>Unnamed: 0</th>\n",
       "      <th>RequiredQual</th>\n",
       "      <th>Eligibility</th>\n",
       "      <th>Title</th>\n",
       "      <th>JobDescription</th>\n",
       "      <th>JobRequirment</th>\n",
       "    </tr>\n",
       "  </thead>\n",
       "  <tbody>\n",
       "    <tr>\n",
       "      <th>0</th>\n",
       "      <td>4</td>\n",
       "      <td>University degree; economical background is a ...</td>\n",
       "      <td>NaN</td>\n",
       "      <td>Software Developer</td>\n",
       "      <td>NaN</td>\n",
       "      <td>- Rendering technical assistance to Database M...</td>\n",
       "    </tr>\n",
       "    <tr>\n",
       "      <th>1</th>\n",
       "      <td>19</td>\n",
       "      <td>As a GD you are creative, innovative and have ...</td>\n",
       "      <td>NaN</td>\n",
       "      <td>Graphic Designer</td>\n",
       "      <td>The position of Graphic Designer (GD) demands ...</td>\n",
       "      <td>Graphic Designer will be responsible for every...</td>\n",
       "    </tr>\n",
       "    <tr>\n",
       "      <th>2</th>\n",
       "      <td>35</td>\n",
       "      <td>Work experience of at least two years;  Knowle...</td>\n",
       "      <td>NaN</td>\n",
       "      <td>Programmer</td>\n",
       "      <td>NaN</td>\n",
       "      <td>NaN</td>\n",
       "    </tr>\n",
       "    <tr>\n",
       "      <th>3</th>\n",
       "      <td>76</td>\n",
       "      <td>Professional background in graphic design; Str...</td>\n",
       "      <td>NaN</td>\n",
       "      <td>Graphic Designer</td>\n",
       "      <td>Ameria CJSC is seeking qualified candidates fo...</td>\n",
       "      <td>- Design of company production packaging;\\r\\n-...</td>\n",
       "    </tr>\n",
       "    <tr>\n",
       "      <th>4</th>\n",
       "      <td>92</td>\n",
       "      <td>Degree in Computer Science, Information Techno...</td>\n",
       "      <td>NaN</td>\n",
       "      <td>Software Developer</td>\n",
       "      <td>Synergy International Systems, Inc./Armenia se...</td>\n",
       "      <td>Specific tasks and key responsibilities includ...</td>\n",
       "    </tr>\n",
       "  </tbody>\n",
       "</table>\n",
       "</div>"
      ],
      "text/plain": [
       "   Unnamed: 0  ...                                      JobRequirment\n",
       "0           4  ...  - Rendering technical assistance to Database M...\n",
       "1          19  ...  Graphic Designer will be responsible for every...\n",
       "2          35  ...                                                NaN\n",
       "3          76  ...  - Design of company production packaging;\\r\\n-...\n",
       "4          92  ...  Specific tasks and key responsibilities includ...\n",
       "\n",
       "[5 rows x 6 columns]"
      ]
     },
     "execution_count": 175,
     "metadata": {
      "tags": []
     },
     "output_type": "execute_result"
    }
   ],
   "source": [
    "df.head()"
   ]
  },
  {
   "cell_type": "code",
   "execution_count": 0,
   "metadata": {
    "colab": {},
    "colab_type": "code",
    "id": "9PQ-_Z7HdMRL"
   },
   "outputs": [],
   "source": [
    "from nltk import word_tokenize          \n",
    "from nltk.stem import WordNetLemmatizer \n",
    "class LemmaTokenizer(object):\n",
    "    def __init__(self):\n",
    "        # lemmatize text - convert to base form \n",
    "        self.wnl = WordNetLemmatizer()\n",
    "        # creating stopwords list, to ignore lemmatizing stopwords \n",
    "        self.stopwords = stopwords.words('english')\n",
    "    def __call__(self, doc):\n",
    "        return [self.wnl.lemmatize(t) for t in word_tokenize(doc) if t not in self.stopwords]\n",
    "\n",
    "# removing new line characters, and certain hypen patterns                  \n",
    "df['RequiredQual']=df['RequiredQual'].apply(lambda x: x.replace('\\n', ' ').replace('\\r', '').replace('- ', ''). replace(' - ', ' to '))"
   ]
  },
  {
   "cell_type": "markdown",
   "metadata": {
    "colab_type": "text",
    "id": "cdIE0VLu0rVK"
   },
   "source": [
    "**Top 10 Job Profiles**"
   ]
  },
  {
   "cell_type": "code",
   "execution_count": 146,
   "metadata": {
    "colab": {
     "base_uri": "https://localhost:8080/",
     "height": 458
    },
    "colab_type": "code",
    "id": "pqmd6lpX2aOs",
    "outputId": "4115e276-d99c-4714-f7ed-5ece62430c19"
   },
   "outputs": [
    {
     "data": {
      "text/plain": [
       "<matplotlib.axes._subplots.AxesSubplot at 0x7f8eb70a0588>"
      ]
     },
     "execution_count": 146,
     "metadata": {
      "tags": []
     },
     "output_type": "execute_result"
    },
    {
     "data": {
      "image/png": "[encoded data removed]",
      "text/plain": [
       "<Figure size 432x288 with 1 Axes>"
      ]
     },
     "metadata": {
      "tags": []
     },
     "output_type": "display_data"
    }
   ],
   "source": [
    "df.Title.value_counts().head(10).plot.bar(title=\"Top 10 Future Jobtitle\")"
   ]
  },
  {
   "cell_type": "markdown",
   "metadata": {
    "colab_type": "text",
    "id": "YqGu5sz7dPX0"
   },
   "source": [
    "## Vectorize + Convert to array"
   ]
  },
  {
   "cell_type": "code",
   "execution_count": 0,
   "metadata": {
    "colab": {},
    "colab_type": "code",
    "id": "qNpMqyrYAdYF"
   },
   "outputs": [],
   "source": [
    "# train features and labels \n",
    "y = df['Title']\n",
    "X = df['RequiredQual']"
   ]
  },
  {
   "cell_type": "code",
   "execution_count": 148,
   "metadata": {
    "colab": {
     "base_uri": "https://localhost:8080/",
     "height": 50
    },
    "colab_type": "code",
    "id": "CqruM3N61b8m",
    "outputId": "9b066d99-3477-48fb-fdb2-1e1aa15aec4c"
   },
   "outputs": [
    {
     "name": "stdout",
     "output_type": "stream",
     "text": [
      "X Shape : (1146,)\n",
      "y Shape : (1146,)\n"
     ]
    }
   ],
   "source": [
    "print(\"X Shape : \" + str(X.shape))\n",
    "print(\"y Shape : \" + str(y.shape))"
   ]
  },
  {
   "cell_type": "code",
   "execution_count": 149,
   "metadata": {
    "colab": {
     "base_uri": "https://localhost:8080/",
     "height": 121
    },
    "colab_type": "code",
    "id": "UY3UygBn25lO",
    "outputId": "ad86a13e-7063-40ab-e23d-2300104a881b"
   },
   "outputs": [
    {
     "name": "stdout",
     "output_type": "stream",
     "text": [
      "Sample input\n",
      "University degree; economical background is a plus; Excellent knowledge of Windows 2000 Server, Networking TCP/ IP technologies, MS SQL 2000 Server, Visual Basic 6; At least 2 years of experience in database software development; Good knowledge of English. REMUNERATION:  Will be commensurate with the norms accepted in the Company.\n",
      "**************\n",
      "Sample output\n",
      "Software Developer\n"
     ]
    }
   ],
   "source": [
    "print(\"Sample input\")\n",
    "print(X.iloc[0])\n",
    "print(\"**************\")\n",
    "print(\"Sample output\")\n",
    "print(y.iloc[0])"
   ]
  },
  {
   "cell_type": "markdown",
   "metadata": {
    "colab_type": "text",
    "id": "G2ceZJHxApul"
   },
   "source": [
    "**Construct the vectorizer**"
   ]
  },
  {
   "cell_type": "code",
   "execution_count": 150,
   "metadata": {
    "colab": {
     "base_uri": "https://localhost:8080/",
     "height": 70
    },
    "colab_type": "code",
    "id": "nsV3Cazj0x-4",
    "outputId": "646a8b8f-debf-41f0-fe59-f4db234b4689"
   },
   "outputs": [
    {
     "name": "stderr",
     "output_type": "stream",
     "text": [
      "/usr/local/lib/python3.6/dist-packages/sklearn/feature_extraction/text.py:300: UserWarning: Your stop_words may be inconsistent with your preprocessing. Tokenizing the stop words generated tokens ['le', 'u'] not in stop_words.\n",
      "  'stop_words.' % sorted(inconsistent))\n"
     ]
    }
   ],
   "source": [
    "# tdif feature rep \n",
    "vectorizer = TfidfVectorizer(tokenizer=LemmaTokenizer(), stop_words='english')\n",
    "vectorizer.fit(X)\n",
    "# transforming text to tdif features\n",
    "tfidf_matrix = vectorizer.transform(X)\n",
    "X_tdif = tfidf_matrix.toarray()"
   ]
  },
  {
   "cell_type": "code",
   "execution_count": 151,
   "metadata": {
    "colab": {
     "base_uri": "https://localhost:8080/",
     "height": 50
    },
    "colab_type": "code",
    "id": "Cn2a43Ts1QOv",
    "outputId": "c3389bce-02fd-47a1-c61e-c9c22c47a3aa"
   },
   "outputs": [
    {
     "name": "stdout",
     "output_type": "stream",
     "text": [
      "tfidf_matrix Shape : (1146, 2902)\n",
      "X_tdif Shape : (1146, 2902)\n"
     ]
    }
   ],
   "source": [
    "print(\"tfidf_matrix Shape : \" + str(tfidf_matrix.shape))\n",
    "print(\"X_tdif Shape : \" + str(X_tdif.shape))"
   ]
  },
  {
   "cell_type": "markdown",
   "metadata": {
    "colab_type": "text",
    "id": "IIiM6I9JBHTA"
   },
   "source": [
    "**Encoding text labels in categories**"
   ]
  },
  {
   "cell_type": "code",
   "execution_count": 0,
   "metadata": {
    "colab": {},
    "colab_type": "code",
    "id": "z0LpDI-v1vfc"
   },
   "outputs": [],
   "source": [
    "enc = LabelEncoder() \n",
    "enc.fit(y.values)\n",
    "y_enc=enc.transform(y.values)"
   ]
  },
  {
   "cell_type": "code",
   "execution_count": 157,
   "metadata": {
    "colab": {
     "base_uri": "https://localhost:8080/",
     "height": 34
    },
    "colab_type": "code",
    "id": "8n2Zoh2y1wl9",
    "outputId": "739f581a-92e3-48da-b956-828f8d5bde94"
   },
   "outputs": [
    {
     "name": "stdout",
     "output_type": "stream",
     "text": [
      "y_enc Shape : (1146,)\n"
     ]
    }
   ],
   "source": [
    "print(\"y_enc Shape : \" + str(y_enc.shape))"
   ]
  },
  {
   "cell_type": "markdown",
   "metadata": {
    "colab_type": "text",
    "id": "ZrraXiJBBxyY"
   },
   "source": [
    "**Train-Test Split**"
   ]
  },
  {
   "cell_type": "code",
   "execution_count": 0,
   "metadata": {
    "colab": {},
    "colab_type": "code",
    "id": "ua5zwVF22B-O"
   },
   "outputs": [],
   "source": [
    "X_train_words, X_test_words, y_train, y_test = train_test_split(X, y_enc, test_size=0.15, random_state=10)"
   ]
  },
  {
   "cell_type": "code",
   "execution_count": 159,
   "metadata": {
    "colab": {
     "base_uri": "https://localhost:8080/",
     "height": 84
    },
    "colab_type": "code",
    "id": "QmMITIJe2HpO",
    "outputId": "d4e253e0-36a0-49be-df84-dabbb178412a"
   },
   "outputs": [
    {
     "name": "stdout",
     "output_type": "stream",
     "text": [
      "X_train_words Shape : (974,)\n",
      "X_test_words Shape : (172,)\n",
      "y_train Shape : (974,)\n",
      "y_test Shape : (172,)\n"
     ]
    }
   ],
   "source": [
    "print(\"X_train_words Shape : \" + str(X_train_words.shape))\n",
    "print(\"X_test_words Shape : \" + str(X_test_words.shape))\n",
    "print(\"y_train Shape : \" + str(y_train.shape))\n",
    "print(\"y_test Shape : \" + str(y_test.shape))"
   ]
  },
  {
   "cell_type": "markdown",
   "metadata": {
    "colab_type": "text",
    "id": "MfdygpngCFNg"
   },
   "source": [
    "**Vectoring X_train & X_test**"
   ]
  },
  {
   "cell_type": "code",
   "execution_count": 0,
   "metadata": {
    "colab": {},
    "colab_type": "code",
    "id": "FNEhUkTDdO19"
   },
   "outputs": [],
   "source": [
    "X_train = vectorizer.transform(X_train_words)\n",
    "X_train = X_train.toarray()\n",
    "\n",
    "X_test = vectorizer.transform(X_test_words)\n",
    "X_test = X_test.toarray()"
   ]
  },
  {
   "cell_type": "code",
   "execution_count": 161,
   "metadata": {
    "colab": {
     "base_uri": "https://localhost:8080/",
     "height": 50
    },
    "colab_type": "code",
    "id": "3FKSxDN_6wc9",
    "outputId": "4ff0e056-d198-4c86-fb5b-8df4346ea0c0"
   },
   "outputs": [
    {
     "data": {
      "text/plain": [
       "array([0.        , 0.10643785, 0.        , ..., 0.        , 0.        ,\n",
       "       0.        ])"
      ]
     },
     "execution_count": 161,
     "metadata": {
      "tags": []
     },
     "output_type": "execute_result"
    }
   ],
   "source": [
    "X_train[0]"
   ]
  },
  {
   "cell_type": "code",
   "execution_count": 162,
   "metadata": {
    "colab": {
     "base_uri": "https://localhost:8080/",
     "height": 34
    },
    "colab_type": "code",
    "id": "ArEwEU1k6__Z",
    "outputId": "1973a7a8-703a-4568-a026-9e94aba3d2e6"
   },
   "outputs": [
    {
     "data": {
      "text/plain": [
       "0"
      ]
     },
     "execution_count": 162,
     "metadata": {
      "tags": []
     },
     "output_type": "execute_result"
    }
   ],
   "source": [
    "y_train[0]"
   ]
  },
  {
   "cell_type": "markdown",
   "metadata": {
    "colab_type": "text",
    "id": "oIOJll_hdT2s"
   },
   "source": [
    "# Model 1 : Naive Bayes"
   ]
  },
  {
   "cell_type": "markdown",
   "metadata": {
    "colab_type": "text",
    "id": "nQ9Xz2KKCmpa"
   },
   "source": [
    "**Build the model**"
   ]
  },
  {
   "cell_type": "code",
   "execution_count": 163,
   "metadata": {
    "colab": {
     "base_uri": "https://localhost:8080/",
     "height": 50
    },
    "colab_type": "code",
    "id": "ziGjMKx-dTpw",
    "outputId": "b934e309-0da9-48e8-8ed1-2e74ef081afa"
   },
   "outputs": [
    {
     "name": "stdout",
     "output_type": "stream",
     "text": [
      "Train acc: 0.9455852156057495\n",
      "Test acc: 0.6918604651162791\n"
     ]
    }
   ],
   "source": [
    "gnb = GaussianNB()\n",
    "gnb.fit(X_train, y_train)\n",
    "train_preds = gnb.predict(X_train)\n",
    "test_preds = gnb.predict(X_test)\n",
    "\n",
    "print('Train acc: {0}'.format(accuracy_score(y_train, train_preds)))\n",
    "print('Test acc: {0}'.format(accuracy_score(y_test, test_preds)))\n"
   ]
  },
  {
   "cell_type": "code",
   "execution_count": 164,
   "metadata": {
    "colab": {
     "base_uri": "https://localhost:8080/",
     "height": 386
    },
    "colab_type": "code",
    "id": "bB1PpuV7ngij",
    "outputId": "7f40f6b6-c7fd-43c2-a420-c712b733fc73"
   },
   "outputs": [
    {
     "name": "stdout",
     "output_type": "stream",
     "text": [
      "Detailed classification report:\n",
      "              precision    recall  f1-score   support\n",
      "\n",
      "           0       0.69      0.75      0.72        12\n",
      "           1       0.80      0.80      0.80         5\n",
      "           2       0.67      0.67      0.67         6\n",
      "           3       0.91      0.77      0.83        13\n",
      "           4       0.62      0.50      0.56        10\n",
      "           5       0.71      0.85      0.77        20\n",
      "           6       0.62      0.71      0.67        14\n",
      "           7       0.71      0.50      0.59        10\n",
      "           8       0.67      0.67      0.67         6\n",
      "           9       0.58      0.48      0.52        23\n",
      "          10       0.73      0.70      0.71        23\n",
      "          11       0.86      0.86      0.86         7\n",
      "          12       0.63      0.89      0.74        19\n",
      "          13       1.00      0.25      0.40         4\n",
      "\n",
      "    accuracy                           0.69       172\n",
      "   macro avg       0.73      0.67      0.68       172\n",
      "weighted avg       0.70      0.69      0.68       172\n",
      "\n"
     ]
    }
   ],
   "source": [
    "print(\"Detailed classification report:\")\n",
    "y_true, gnb_pred = y_test, gnb.predict(X_test)\n",
    "print(classification_report(y_true, gnb_pred))"
   ]
  },
  {
   "cell_type": "code",
   "execution_count": 165,
   "metadata": {
    "colab": {
     "base_uri": "https://localhost:8080/",
     "height": 269
    },
    "colab_type": "code",
    "id": "oX52_i1VoGnF",
    "outputId": "bf6e04e9-ef47-4171-c6a3-2c054714dd9f"
   },
   "outputs": [
    {
     "name": "stdout",
     "output_type": "stream",
     "text": [
      "Confusion Matrix:\n",
      "[[ 9  0  0  0  0  0  0  0  0  1  1  0  1  0]\n",
      " [ 0  4  0  0  0  0  0  0  0  0  1  0  0  0]\n",
      " [ 0  0  4  0  0  0  0  0  0  1  0  0  1  0]\n",
      " [ 0  0  0 10  0  0  0  0  0  0  0  0  3  0]\n",
      " [ 0  0  0  0  5  1  0  0  0  2  1  1  0  0]\n",
      " [ 0  0  0  0  1 17  0  0  0  1  1  0  0  0]\n",
      " [ 0  0  0  0  0  1 10  0  1  0  0  0  2  0]\n",
      " [ 0  0  0  0  2  0  1  5  1  0  1  0  0  0]\n",
      " [ 0  0  0  0  0  1  0  0  4  1  0  0  0  0]\n",
      " [ 3  0  2  1  0  2  1  1  0 11  0  0  2  0]\n",
      " [ 0  0  0  0  0  2  1  1  0  2 16  0  1  0]\n",
      " [ 1  0  0  0  0  0  0  0  0  0  0  6  0  0]\n",
      " [ 0  0  0  0  0  0  2  0  0  0  0  0 17  0]\n",
      " [ 0  1  0  0  0  0  1  0  0  0  1  0  0  1]]\n"
     ]
    }
   ],
   "source": [
    "confusion = confusion_matrix(y_test, gnb_pred)\n",
    "print('Confusion Matrix:')\n",
    "print(confusion)"
   ]
  },
  {
   "cell_type": "markdown",
   "metadata": {
    "colab_type": "text",
    "id": "tGm-c0WZCuu2"
   },
   "source": [
    "**Save the model**"
   ]
  },
  {
   "cell_type": "code",
   "execution_count": 0,
   "metadata": {
    "colab": {},
    "colab_type": "code",
    "id": "1f-hZ8-d3GWg"
   },
   "outputs": [],
   "source": [
    "gnb_file = open('gnb.pckl', 'wb')\n",
    "pickle.dump(gnb, gnb_file)\n",
    "gnb_file.close()"
   ]
  },
  {
   "cell_type": "code",
   "execution_count": 166,
   "metadata": {
    "colab": {
     "base_uri": "https://localhost:8080/",
     "height": 34
    },
    "colab_type": "code",
    "id": "8ZntsbGH6OzP",
    "outputId": "03ea5936-d430-433c-ce6d-e5888e9b9b20"
   },
   "outputs": [
    {
     "data": {
      "text/plain": [
       "{'priors': None, 'var_smoothing': 1e-09}"
      ]
     },
     "execution_count": 166,
     "metadata": {
      "tags": []
     },
     "output_type": "execute_result"
    }
   ],
   "source": [
    "gnb.get_params()"
   ]
  },
  {
   "cell_type": "markdown",
   "metadata": {
    "colab_type": "text",
    "id": "OQ4GOlqadXY0"
   },
   "source": [
    "# Model 2 : Logistic Regression\n"
   ]
  },
  {
   "cell_type": "markdown",
   "metadata": {
    "colab_type": "text",
    "id": "H1xzNSPlCzld"
   },
   "source": [
    "**Build the model**"
   ]
  },
  {
   "cell_type": "code",
   "execution_count": 19,
   "metadata": {
    "colab": {
     "base_uri": "https://localhost:8080/",
     "height": 104
    },
    "colab_type": "code",
    "id": "Q36W9a5KdX_y",
    "outputId": "f9157fcc-dcfd-4a07-e727-d8dc41241db8"
   },
   "outputs": [
    {
     "name": "stdout",
     "output_type": "stream",
     "text": [
      "[LibLinear]"
     ]
    },
    {
     "name": "stderr",
     "output_type": "stream",
     "text": [
      "/usr/local/lib/python3.6/dist-packages/sklearn/linear_model/logistic.py:432: FutureWarning: Default solver will be changed to 'lbfgs' in 0.22. Specify a solver to silence this warning.\n",
      "  FutureWarning)\n",
      "/usr/local/lib/python3.6/dist-packages/sklearn/linear_model/logistic.py:469: FutureWarning: Default multi_class will be changed to 'auto' in 0.22. Specify the multi_class option to silence this warning.\n",
      "  \"this warning.\", FutureWarning)\n"
     ]
    }
   ],
   "source": [
    "logistic = LogisticRegression(max_iter=15,verbose=1, C=0.75)\n",
    "logistic.fit(X_train, y_train)\n",
    "train_preds = logistic.predict(X_train)\n",
    "test_preds = logistic.predict(X_test)\n"
   ]
  },
  {
   "cell_type": "code",
   "execution_count": 20,
   "metadata": {
    "colab": {
     "base_uri": "https://localhost:8080/",
     "height": 50
    },
    "colab_type": "code",
    "id": "Xsq8OvcQ1WVw",
    "outputId": "087382fb-5ce8-41c6-f026-5561b181e0a6"
   },
   "outputs": [
    {
     "name": "stdout",
     "output_type": "stream",
     "text": [
      "Train acc: 0.8757700205338809\n",
      "Test acc: 0.7383720930232558\n"
     ]
    }
   ],
   "source": [
    "print('Train acc: {0}'.format(accuracy_score(y_train, train_preds)))\n",
    "print('Test acc: {0}'.format(accuracy_score(y_test, test_preds)))"
   ]
  },
  {
   "cell_type": "code",
   "execution_count": 21,
   "metadata": {
    "colab": {
     "base_uri": "https://localhost:8080/",
     "height": 269
    },
    "colab_type": "code",
    "id": "ve634RwZ6TgJ",
    "outputId": "2426766c-9077-4ba2-cdf6-4cf3c125f834"
   },
   "outputs": [
    {
     "data": {
      "text/plain": [
       "{'C': 0.75,\n",
       " 'class_weight': None,\n",
       " 'dual': False,\n",
       " 'fit_intercept': True,\n",
       " 'intercept_scaling': 1,\n",
       " 'l1_ratio': None,\n",
       " 'max_iter': 15,\n",
       " 'multi_class': 'warn',\n",
       " 'n_jobs': None,\n",
       " 'penalty': 'l2',\n",
       " 'random_state': None,\n",
       " 'solver': 'warn',\n",
       " 'tol': 0.0001,\n",
       " 'verbose': 1,\n",
       " 'warm_start': False}"
      ]
     },
     "execution_count": 21,
     "metadata": {
      "tags": []
     },
     "output_type": "execute_result"
    }
   ],
   "source": [
    "logistic.get_params()"
   ]
  },
  {
   "cell_type": "code",
   "execution_count": 104,
   "metadata": {
    "colab": {
     "base_uri": "https://localhost:8080/",
     "height": 440
    },
    "colab_type": "code",
    "id": "a93PmwRHojI2",
    "outputId": "61718c98-852f-40f9-e10d-b7438788d763"
   },
   "outputs": [
    {
     "name": "stdout",
     "output_type": "stream",
     "text": [
      "Detailed classification report:\n",
      "              precision    recall  f1-score   support\n",
      "\n",
      "           0       0.83      0.83      0.83        12\n",
      "           1       1.00      1.00      1.00         5\n",
      "           2       0.75      0.50      0.60         6\n",
      "           3       1.00      1.00      1.00        13\n",
      "           4       0.88      0.70      0.78        10\n",
      "           5       0.72      0.90      0.80        20\n",
      "           6       0.79      0.79      0.79        14\n",
      "           7       0.86      0.60      0.71        10\n",
      "           8       0.00      0.00      0.00         6\n",
      "           9       0.50      0.65      0.57        23\n",
      "          10       0.78      0.61      0.68        23\n",
      "          11       1.00      1.00      1.00         7\n",
      "          12       0.58      0.79      0.67        19\n",
      "          13       1.00      0.75      0.86         4\n",
      "\n",
      "    accuracy                           0.74       172\n",
      "   macro avg       0.76      0.72      0.73       172\n",
      "weighted avg       0.74      0.74      0.73       172\n",
      "\n"
     ]
    },
    {
     "name": "stderr",
     "output_type": "stream",
     "text": [
      "/usr/local/lib/python3.6/dist-packages/sklearn/metrics/classification.py:1437: UndefinedMetricWarning: Precision and F-score are ill-defined and being set to 0.0 in labels with no predicted samples.\n",
      "  'precision', 'predicted', average, warn_for)\n"
     ]
    }
   ],
   "source": [
    "print(\"Detailed classification report:\")\n",
    "y_true, logistic_pred = y_test, logistic.predict(X_test)\n",
    "print(classification_report(y_true, logistic_pred))"
   ]
  },
  {
   "cell_type": "code",
   "execution_count": 105,
   "metadata": {
    "colab": {
     "base_uri": "https://localhost:8080/",
     "height": 269
    },
    "colab_type": "code",
    "id": "bvxb5eWYon_Z",
    "outputId": "44310f74-b648-414d-98b3-2f55243239a5"
   },
   "outputs": [
    {
     "name": "stdout",
     "output_type": "stream",
     "text": [
      "Confusion Matrix:\n",
      "[[10  0  0  0  0  0  0  0  0  1  0  0  1  0]\n",
      " [ 0  5  0  0  0  0  0  0  0  0  0  0  0  0]\n",
      " [ 0  0  3  0  0  0  0  0  0  1  1  0  1  0]\n",
      " [ 0  0  0 13  0  0  0  0  0  0  0  0  0  0]\n",
      " [ 0  0  0  0  7  1  0  0  0  2  0  0  0  0]\n",
      " [ 0  0  0  0  0 18  0  0  0  1  1  0  0  0]\n",
      " [ 0  0  0  0  0  0 11  0  0  1  0  0  2  0]\n",
      " [ 0  0  1  0  0  0  0  6  0  1  0  0  2  0]\n",
      " [ 0  0  0  0  0  2  0  0  0  3  1  0  0  0]\n",
      " [ 2  0  0  0  0  1  0  0  0 15  0  0  5  0]\n",
      " [ 0  0  0  0  1  3  1  1  0  3 14  0  0  0]\n",
      " [ 0  0  0  0  0  0  0  0  0  0  0  7  0  0]\n",
      " [ 0  0  0  0  0  0  2  0  0  2  0  0 15  0]\n",
      " [ 0  0  0  0  0  0  0  0  0  0  1  0  0  3]]\n"
     ]
    }
   ],
   "source": [
    "confusion = confusion_matrix(y_test, logistic_pred)\n",
    "print('Confusion Matrix:')\n",
    "print(confusion)"
   ]
  },
  {
   "cell_type": "markdown",
   "metadata": {
    "colab_type": "text",
    "id": "kMLOkwTrC7Z2"
   },
   "source": [
    "**Save the model**"
   ]
  },
  {
   "cell_type": "code",
   "execution_count": 0,
   "metadata": {
    "colab": {},
    "colab_type": "code",
    "id": "VImlhUCG3dKb"
   },
   "outputs": [],
   "source": [
    "logistic_file = open('logistic.pckl', 'wb')\n",
    "pickle.dump(logistic, logistic_file)\n",
    "logistic_file.close()"
   ]
  },
  {
   "cell_type": "markdown",
   "metadata": {
    "colab_type": "text",
    "id": "i6PyFJEX3tXT"
   },
   "source": [
    "# Model 3 : Random Forest"
   ]
  },
  {
   "cell_type": "markdown",
   "metadata": {
    "colab_type": "text",
    "id": "YrqdUs4UDCZ-"
   },
   "source": [
    "**Build the model**"
   ]
  },
  {
   "cell_type": "code",
   "execution_count": 0,
   "metadata": {
    "colab": {},
    "colab_type": "code",
    "id": "XdrbkQJd365t"
   },
   "outputs": [],
   "source": [
    "clf = RandomForestClassifier(n_estimators=100, max_depth=10,random_state=0)\n",
    "clf.fit(X_train, y_train)\n",
    "train_preds = clf.predict(X_train)\n",
    "test_preds = clf.predict(X_test)\n"
   ]
  },
  {
   "cell_type": "code",
   "execution_count": 25,
   "metadata": {
    "colab": {
     "base_uri": "https://localhost:8080/",
     "height": 50
    },
    "colab_type": "code",
    "id": "tti4eKBy1adx",
    "outputId": "8fb5980e-538c-4af2-b35a-312e94d5184b"
   },
   "outputs": [
    {
     "name": "stdout",
     "output_type": "stream",
     "text": [
      "Train acc: 0.919917864476386\n",
      "Test acc: 0.6976744186046512\n"
     ]
    }
   ],
   "source": [
    "print('Train acc: {0}'.format(accuracy_score(y_train, train_preds)))\n",
    "print('Test acc: {0}'.format(accuracy_score(y_test, test_preds)))"
   ]
  },
  {
   "cell_type": "code",
   "execution_count": 106,
   "metadata": {
    "colab": {
     "base_uri": "https://localhost:8080/",
     "height": 386
    },
    "colab_type": "code",
    "id": "EFb3l6Ffos0L",
    "outputId": "015eabed-6f75-48b1-f82c-3da6cfb9dccb"
   },
   "outputs": [
    {
     "name": "stdout",
     "output_type": "stream",
     "text": [
      "Detailed classification report:\n",
      "              precision    recall  f1-score   support\n",
      "\n",
      "           0       0.83      0.83      0.83        12\n",
      "           1       0.83      1.00      0.91         5\n",
      "           2       0.80      0.67      0.73         6\n",
      "           3       1.00      0.92      0.96        13\n",
      "           4       1.00      0.60      0.75        10\n",
      "           5       0.77      0.85      0.81        20\n",
      "           6       0.67      0.71      0.69        14\n",
      "           7       0.75      0.30      0.43        10\n",
      "           8       1.00      0.17      0.29         6\n",
      "           9       0.42      0.57      0.48        23\n",
      "          10       0.74      0.61      0.67        23\n",
      "          11       0.88      1.00      0.93         7\n",
      "          12       0.54      0.79      0.64        19\n",
      "          13       1.00      0.75      0.86         4\n",
      "\n",
      "    accuracy                           0.70       172\n",
      "   macro avg       0.80      0.70      0.71       172\n",
      "weighted avg       0.74      0.70      0.69       172\n",
      "\n"
     ]
    }
   ],
   "source": [
    "print(\"Detailed classification report:\")\n",
    "y_true, clf_pred = y_test, clf.predict(X_test)\n",
    "print(classification_report(y_true, clf_pred))"
   ]
  },
  {
   "cell_type": "code",
   "execution_count": 107,
   "metadata": {
    "colab": {
     "base_uri": "https://localhost:8080/",
     "height": 269
    },
    "colab_type": "code",
    "id": "O4USL0wjoxEA",
    "outputId": "20932972-d068-45c2-fb10-e87395802568"
   },
   "outputs": [
    {
     "name": "stdout",
     "output_type": "stream",
     "text": [
      "Confusion Matrix:\n",
      "[[10  0  0  0  0  0  0  0  0  1  0  0  1  0]\n",
      " [ 0  5  0  0  0  0  0  0  0  0  0  0  0  0]\n",
      " [ 0  0  4  0  0  0  0  0  0  0  1  0  1  0]\n",
      " [ 0  0  0 12  0  0  0  0  0  1  0  0  0  0]\n",
      " [ 0  0  0  0  6  0  0  0  0  4  0  0  0  0]\n",
      " [ 0  0  0  0  0 17  1  0  0  0  2  0  0  0]\n",
      " [ 0  0  0  0  0  0 10  0  0  0  0  0  4  0]\n",
      " [ 0  0  0  0  0  0  0  3  0  4  0  1  2  0]\n",
      " [ 0  0  0  0  0  1  0  0  1  3  1  0  0  0]\n",
      " [ 2  0  1  0  0  1  1  0  0 13  1  0  4  0]\n",
      " [ 0  0  0  0  0  3  1  1  0  3 14  0  1  0]\n",
      " [ 0  0  0  0  0  0  0  0  0  0  0  7  0  0]\n",
      " [ 0  0  0  0  0  0  2  0  0  2  0  0 15  0]\n",
      " [ 0  1  0  0  0  0  0  0  0  0  0  0  0  3]]\n"
     ]
    }
   ],
   "source": [
    "confusion = confusion_matrix(y_test, clf_pred)\n",
    "print('Confusion Matrix:')\n",
    "print(confusion)"
   ]
  },
  {
   "cell_type": "markdown",
   "metadata": {
    "colab_type": "text",
    "id": "jXquWl-oDHvl"
   },
   "source": [
    "**Save the model**"
   ]
  },
  {
   "cell_type": "code",
   "execution_count": 0,
   "metadata": {
    "colab": {},
    "colab_type": "code",
    "id": "Jb9_Lpdk3tKo"
   },
   "outputs": [],
   "source": [
    "randomforest_file = open('randomforest.pckl', 'wb')\n",
    "pickle.dump(clf, randomforest_file)\n",
    "randomforest_file.close()"
   ]
  },
  {
   "cell_type": "code",
   "execution_count": 27,
   "metadata": {
    "colab": {
     "base_uri": "https://localhost:8080/",
     "height": 302
    },
    "colab_type": "code",
    "id": "UH74H_xB8u69",
    "outputId": "b2e6365f-0749-44eb-db6d-06451064169b"
   },
   "outputs": [
    {
     "data": {
      "text/plain": [
       "{'bootstrap': True,\n",
       " 'class_weight': None,\n",
       " 'criterion': 'gini',\n",
       " 'max_depth': 10,\n",
       " 'max_features': 'auto',\n",
       " 'max_leaf_nodes': None,\n",
       " 'min_impurity_decrease': 0.0,\n",
       " 'min_impurity_split': None,\n",
       " 'min_samples_leaf': 1,\n",
       " 'min_samples_split': 2,\n",
       " 'min_weight_fraction_leaf': 0.0,\n",
       " 'n_estimators': 100,\n",
       " 'n_jobs': None,\n",
       " 'oob_score': False,\n",
       " 'random_state': 0,\n",
       " 'verbose': 0,\n",
       " 'warm_start': False}"
      ]
     },
     "execution_count": 27,
     "metadata": {
      "tags": []
     },
     "output_type": "execute_result"
    }
   ],
   "source": [
    "clf.get_params()"
   ]
  },
  {
   "cell_type": "markdown",
   "metadata": {
    "colab_type": "text",
    "id": "qHYB3j4lhzs-"
   },
   "source": [
    "# NN"
   ]
  },
  {
   "cell_type": "markdown",
   "metadata": {
    "colab_type": "text",
    "id": "lw7bh-aIiCFz"
   },
   "source": [
    "## Model 1"
   ]
  },
  {
   "cell_type": "code",
   "execution_count": 0,
   "metadata": {
    "colab": {},
    "colab_type": "code",
    "id": "FCyxFxf3hzQI"
   },
   "outputs": [],
   "source": [
    "from sklearn.preprocessing import OneHotEncoder\n",
    "enc = OneHotEncoder(handle_unknown='ignore')"
   ]
  },
  {
   "cell_type": "code",
   "execution_count": 32,
   "metadata": {
    "colab": {
     "base_uri": "https://localhost:8080/",
     "height": 67
    },
    "colab_type": "code",
    "id": "cG9L-N5biKPu",
    "outputId": "cb1645df-a03d-49a0-d4cf-e034b6854601"
   },
   "outputs": [
    {
     "data": {
      "text/plain": [
       "OneHotEncoder(categorical_features=None, categories=None, drop=None,\n",
       "              dtype=<class 'numpy.float64'>, handle_unknown='ignore',\n",
       "              n_values=None, sparse=True)"
      ]
     },
     "execution_count": 32,
     "metadata": {
      "tags": []
     },
     "output_type": "execute_result"
    }
   ],
   "source": [
    "enc.fit(y_train.reshape(-1,1))"
   ]
  },
  {
   "cell_type": "code",
   "execution_count": 0,
   "metadata": {
    "colab": {},
    "colab_type": "code",
    "id": "C0nz6W22iKK8"
   },
   "outputs": [],
   "source": [
    "onehotlabels_train = enc.transform(y_train.reshape(-1,1)).toarray()\n",
    "onehotlabels_test = enc.transform(y_test.reshape(-1,1)).toarray()"
   ]
  },
  {
   "cell_type": "code",
   "execution_count": 34,
   "metadata": {
    "colab": {
     "base_uri": "https://localhost:8080/",
     "height": 50
    },
    "colab_type": "code",
    "id": "Sb1da5aUiebh",
    "outputId": "837582d5-791d-417a-f5d8-4176d070dc8f"
   },
   "outputs": [
    {
     "name": "stdout",
     "output_type": "stream",
     "text": [
      "[1. 0. 0. 0. 0. 0. 0. 0. 0. 0. 0. 0. 0. 0.]\n",
      "[0. 1. 0. 0. 0. 0. 0. 0. 0. 0. 0. 0. 0. 0.]\n"
     ]
    }
   ],
   "source": [
    "print(onehotlabels_train[0])\n",
    "print(onehotlabels_test[0])"
   ]
  },
  {
   "cell_type": "code",
   "execution_count": 35,
   "metadata": {
    "colab": {
     "base_uri": "https://localhost:8080/",
     "height": 34
    },
    "colab_type": "code",
    "id": "iv5r1TXgijfo",
    "outputId": "76407213-7df9-42c1-bb8e-53f2b94a56f4"
   },
   "outputs": [
    {
     "data": {
      "text/plain": [
       "(974, 2902)"
      ]
     },
     "execution_count": 35,
     "metadata": {
      "tags": []
     },
     "output_type": "execute_result"
    }
   ],
   "source": [
    "X_train.shape"
   ]
  },
  {
   "cell_type": "code",
   "execution_count": 37,
   "metadata": {
    "colab": {
     "base_uri": "https://localhost:8080/",
     "height": 34
    },
    "colab_type": "code",
    "id": "VK_8GDb0in_H",
    "outputId": "b55c5ea3-3925-4ab3-cf69-0c54c748ca6b"
   },
   "outputs": [
    {
     "data": {
      "text/plain": [
       "2902"
      ]
     },
     "execution_count": 37,
     "metadata": {
      "tags": []
     },
     "output_type": "execute_result"
    }
   ],
   "source": [
    "X_test.shape[1]"
   ]
  },
  {
   "cell_type": "code",
   "execution_count": 0,
   "metadata": {
    "colab": {},
    "colab_type": "code",
    "id": "lMKTRBmTiKFN"
   },
   "outputs": [],
   "source": [
    "model_1 = Sequential() \n",
    "model_1.add(Dense(units=1024, input_dim=X_test.shape[1], kernel_initializer='RandomNormal', activation='elu'))\n",
    "model_1.add(Dense(units=512,kernel_initializer='RandomNormal', activation='selu'))\n",
    "model_1.add(Dense(units=128,kernel_initializer='RandomNormal', activation='selu'))\n",
    "model_1.add(Dense(units=64,kernel_initializer='RandomNormal', activation='selu'))\n",
    "model_1.add(Dense(units=32,kernel_initializer='RandomNormal', activation='selu'))\n",
    "model_1.add(Dense(units=14,kernel_initializer='uniform', activation='sigmoid'))\n",
    "\n",
    "\n",
    "model_1.compile(loss='categorical_crossentropy',optimizer='adam', metrics=['accuracy'])"
   ]
  },
  {
   "cell_type": "code",
   "execution_count": 0,
   "metadata": {
    "colab": {},
    "colab_type": "code",
    "id": "AbZdKYQ7i9kD"
   },
   "outputs": [],
   "source": [
    "train_history_1 = model_1.fit(x=X_train, y=onehotlabels_train,  \n",
    "                          validation_split=0.3, epochs=10, \n",
    "                          batch_size=64, verbose=2) "
   ]
  },
  {
   "cell_type": "code",
   "execution_count": 54,
   "metadata": {
    "colab": {
     "base_uri": "https://localhost:8080/",
     "height": 295
    },
    "colab_type": "code",
    "id": "7dGBVxbHi9hT",
    "outputId": "3d2d68e3-3f27-4048-9cbf-25078c4604ab"
   },
   "outputs": [
    {
     "data": {
      "image/png": "[encoded data removed]",
      "text/plain": [
       "<Figure size 432x288 with 1 Axes>"
      ]
     },
     "metadata": {
      "tags": []
     },
     "output_type": "display_data"
    }
   ],
   "source": [
    "plt.plot(train_history_1.history['acc'])\n",
    "plt.plot(train_history_1.history['val_acc'])\n",
    "plt.title('model accuracy')\n",
    "plt.ylabel('accuracy')\n",
    "plt.xlabel('epoch')\n",
    "plt.legend(['train', 'test'], loc='lower right')\n",
    "plt.show()"
   ]
  },
  {
   "cell_type": "code",
   "execution_count": 55,
   "metadata": {
    "colab": {
     "base_uri": "https://localhost:8080/",
     "height": 295
    },
    "colab_type": "code",
    "id": "YMDGToDXjDmN",
    "outputId": "072b480d-ab1d-4275-f4e0-4a4bfe54a607"
   },
   "outputs": [
    {
     "data": {
      "image/png": "[encoded data removed]",
      "text/plain": [
       "<Figure size 432x288 with 1 Axes>"
      ]
     },
     "metadata": {
      "tags": []
     },
     "output_type": "display_data"
    }
   ],
   "source": [
    "plt.plot(train_history_1.history['loss'])\n",
    "plt.plot(train_history_1.history['val_loss'])\n",
    "plt.title('model loss')\n",
    "plt.ylabel('loss')\n",
    "plt.xlabel('epoch')\n",
    "plt.legend(['train', 'test'], loc='upper right')\n",
    "plt.show()"
   ]
  },
  {
   "cell_type": "code",
   "execution_count": 56,
   "metadata": {
    "colab": {
     "base_uri": "https://localhost:8080/",
     "height": 121
    },
    "colab_type": "code",
    "id": "lQ-KejWSjE4E",
    "outputId": "cefb41fe-8de3-4e3e-f85b-cf16e9a10678"
   },
   "outputs": [
    {
     "name": "stdout",
     "output_type": "stream",
     "text": [
      "Input\n",
      "Ans\n",
      "[1, 12, 12, 10, 9, 12, 8, 12, 1, 7, 9, 10, 9, 9, 0, 2, 12, 0, 2, 12, 10, 12, 9, 8, 12, 12, 9, 10, 1, 12, 12, 10, 10, 1, 12, 10, 7, 10, 8, 10, 12, 7, 8, 12, 9, 0, 12, 1, 10, 10, 4, 2, 7, 2, 0, 12, 9, 10, 12, 0]\n",
      "Actual\n",
      "[1, 6, 12, 5, 10, 6, 1, 4, 1, 4, 3, 9, 9, 9, 11, 11, 9, 9, 7, 3, 10, 3, 0, 1, 9, 12, 0, 10, 13, 12, 12, 5, 5, 1, 12, 10, 7, 5, 8, 5, 6, 7, 6, 3, 10, 0, 10, 13, 5, 10, 4, 2, 7, 11, 0, 2, 9, 5, 12, 9]\n"
     ]
    }
   ],
   "source": [
    "ans=model_1.predict(X_test[0:60])\n",
    "print(\"Input\")\n",
    "# print(X_test[0:20])\n",
    "print(\"Ans\")\n",
    "print([np.argmax(x) for x in ans])\n",
    "print(\"Actual\")\n",
    "print([np.argmax(x) for x in onehotlabels_test[0:60]])"
   ]
  },
  {
   "cell_type": "code",
   "execution_count": 57,
   "metadata": {
    "colab": {
     "base_uri": "https://localhost:8080/",
     "height": 84
    },
    "colab_type": "code",
    "id": "plBCnSTAjGRu",
    "outputId": "c827cdd9-8181-440a-87a5-dd27581eb238"
   },
   "outputs": [
    {
     "name": "stdout",
     "output_type": "stream",
     "text": [
      "172/172 [==============================] - 0s 371us/step\n",
      "\n",
      "\n",
      "accuracy= 0.40697674349296925\n"
     ]
    }
   ],
   "source": [
    "scores = model_1.evaluate(X_test, onehotlabels_test)\n",
    "print('\\n')\n",
    "print('accuracy=',scores[1])"
   ]
  },
  {
   "cell_type": "code",
   "execution_count": 0,
   "metadata": {
    "colab": {},
    "colab_type": "code",
    "id": "tMlKHD-pkDCz"
   },
   "outputs": [],
   "source": [
    "model_1.save('model_1_a.h5')"
   ]
  },
  {
   "cell_type": "code",
   "execution_count": 110,
   "metadata": {
    "colab": {
     "base_uri": "https://localhost:8080/",
     "height": 754
    },
    "colab_type": "code",
    "id": "g794WykxrLcu",
    "outputId": "aa1b7c86-a645-4a61-cf38-d991637009ec"
   },
   "outputs": [
    {
     "data": {
      "image/png": "[encoded data removed]",
      "text/plain": [
       "<IPython.core.display.Image object>"
      ]
     },
     "execution_count": 110,
     "metadata": {
      "tags": []
     },
     "output_type": "execute_result"
    }
   ],
   "source": [
    "plot_model(model_1, to_file='model1.png', show_shapes=True, show_layer_names=True)"
   ]
  },
  {
   "cell_type": "markdown",
   "metadata": {
    "colab_type": "text",
    "id": "A0bYoSU-kIJ2"
   },
   "source": [
    "## Model 2"
   ]
  },
  {
   "cell_type": "code",
   "execution_count": 0,
   "metadata": {
    "colab": {},
    "colab_type": "code",
    "id": "bPmTq-46kLQ0"
   },
   "outputs": [],
   "source": [
    "model_2 = Sequential() \n",
    "model_2.add(Dense(units=1024, input_dim=X_test.shape[1], kernel_initializer='RandomNormal', activation='elu'))\n",
    "model_2.add(Dense(units=512,kernel_initializer='RandomNormal', activation='selu'))\n",
    "model_2.add(Dense(units=256,kernel_initializer='RandomNormal', activation='selu'))\n",
    "model_2.add(Dense(units=128,kernel_initializer='RandomNormal', activation='selu'))\n",
    "model_2.add(Dense(units=64,kernel_initializer='RandomNormal', activation='selu'))\n",
    "model_2.add(Dense(units=32,kernel_initializer='RandomNormal', activation='selu'))\n",
    "model_2.add(Dense(units=14,kernel_initializer='uniform', activation='softmax'))\n",
    "\n",
    "\n",
    "model_2.compile(loss='categorical_crossentropy',optimizer='adam', metrics=['accuracy'])"
   ]
  },
  {
   "cell_type": "code",
   "execution_count": 62,
   "metadata": {
    "colab": {
     "base_uri": "https://localhost:8080/",
     "height": 538
    },
    "colab_type": "code",
    "id": "mbT8DuoXkLOt",
    "outputId": "65ac965d-ee10-4bcb-95e4-09e8664fa0b9"
   },
   "outputs": [
    {
     "name": "stdout",
     "output_type": "stream",
     "text": [
      "Train on 681 samples, validate on 293 samples\n",
      "Epoch 1/15\n",
      " - 1s - loss: 0.0327 - acc: 0.9883 - val_loss: 2.2224 - val_acc: 0.6689\n",
      "Epoch 2/15\n",
      " - 1s - loss: 0.0182 - acc: 0.9883 - val_loss: 2.2296 - val_acc: 0.6655\n",
      "Epoch 3/15\n",
      " - 1s - loss: 0.0193 - acc: 0.9927 - val_loss: 2.2863 - val_acc: 0.6689\n",
      "Epoch 4/15\n",
      " - 1s - loss: 0.0180 - acc: 0.9927 - val_loss: 2.2226 - val_acc: 0.6894\n",
      "Epoch 5/15\n",
      " - 1s - loss: 0.0392 - acc: 0.9912 - val_loss: 2.5891 - val_acc: 0.6553\n",
      "Epoch 6/15\n",
      " - 1s - loss: 0.0441 - acc: 0.9838 - val_loss: 2.3072 - val_acc: 0.6724\n",
      "Epoch 7/15\n",
      " - 1s - loss: 0.0336 - acc: 0.9883 - val_loss: 2.3227 - val_acc: 0.6860\n",
      "Epoch 8/15\n",
      " - 1s - loss: 0.0171 - acc: 0.9927 - val_loss: 2.2705 - val_acc: 0.6587\n",
      "Epoch 9/15\n",
      " - 1s - loss: 0.0223 - acc: 0.9927 - val_loss: 2.2599 - val_acc: 0.6792\n",
      "Epoch 10/15\n",
      " - 1s - loss: 0.0241 - acc: 0.9927 - val_loss: 2.2266 - val_acc: 0.6689\n",
      "Epoch 11/15\n",
      " - 1s - loss: 0.0187 - acc: 0.9912 - val_loss: 2.2224 - val_acc: 0.6758\n",
      "Epoch 12/15\n",
      " - 1s - loss: 0.0194 - acc: 0.9912 - val_loss: 2.1404 - val_acc: 0.6792\n",
      "Epoch 13/15\n",
      " - 1s - loss: 0.0192 - acc: 0.9927 - val_loss: 2.2412 - val_acc: 0.6621\n",
      "Epoch 14/15\n",
      " - 1s - loss: 0.0195 - acc: 0.9927 - val_loss: 2.2818 - val_acc: 0.6553\n",
      "Epoch 15/15\n",
      " - 1s - loss: 0.0255 - acc: 0.9912 - val_loss: 2.1671 - val_acc: 0.6894\n"
     ]
    }
   ],
   "source": [
    "train_history_2 = model_2.fit(x=X_train, y=onehotlabels_train,  \n",
    "                          validation_split=0.3, epochs=15, \n",
    "                          batch_size=64, verbose=2) "
   ]
  },
  {
   "cell_type": "code",
   "execution_count": 63,
   "metadata": {
    "colab": {
     "base_uri": "https://localhost:8080/",
     "height": 295
    },
    "colab_type": "code",
    "id": "Yg9hJKJlkU_C",
    "outputId": "8e35ff3a-41a4-4bff-d9ae-2d651bf6571c"
   },
   "outputs": [
    {
     "data": {
      "image/png": "[encoded data removed]",
      "text/plain": [
       "<Figure size 432x288 with 1 Axes>"
      ]
     },
     "metadata": {
      "tags": []
     },
     "output_type": "display_data"
    }
   ],
   "source": [
    "plt.plot(train_history_2.history['acc'])\n",
    "plt.plot(train_history_2.history['val_acc'])\n",
    "plt.title('model accuracy')\n",
    "plt.ylabel('accuracy')\n",
    "plt.xlabel('epoch')\n",
    "plt.legend(['train', 'test'], loc='lower right')\n",
    "plt.show()"
   ]
  },
  {
   "cell_type": "code",
   "execution_count": 64,
   "metadata": {
    "colab": {
     "base_uri": "https://localhost:8080/",
     "height": 295
    },
    "colab_type": "code",
    "id": "ix1zodFgkLKq",
    "outputId": "1fdaead2-52d9-403b-896c-915ff9f7cd03"
   },
   "outputs": [
    {
     "data": {
      "image/png": "[encoded data removed]",
      "text/plain": [
       "<Figure size 432x288 with 1 Axes>"
      ]
     },
     "metadata": {
      "tags": []
     },
     "output_type": "display_data"
    }
   ],
   "source": [
    "plt.plot(train_history_2.history['loss'])\n",
    "plt.plot(train_history_2.history['val_loss'])\n",
    "plt.title('model loss')\n",
    "plt.ylabel('loss')\n",
    "plt.xlabel('epoch')\n",
    "plt.legend(['train', 'test'], loc='upper right')\n",
    "plt.show()"
   ]
  },
  {
   "cell_type": "code",
   "execution_count": 65,
   "metadata": {
    "colab": {
     "base_uri": "https://localhost:8080/",
     "height": 121
    },
    "colab_type": "code",
    "id": "UqWElOEGkLIx",
    "outputId": "fc082c48-4c63-460c-9e82-8fd90a97679a"
   },
   "outputs": [
    {
     "name": "stdout",
     "output_type": "stream",
     "text": [
      "Input\n",
      "Ans\n",
      "[13, 6, 12, 5, 9, 6, 1, 4, 1, 7, 7, 5, 9, 9, 11, 11, 12, 8, 2, 3, 10, 3, 0, 1, 12, 12, 10, 10, 13, 12, 12, 10, 5, 1, 12, 5, 7, 5, 9, 5, 6, 7, 13, 3, 9, 0, 9, 13, 5, 10, 4, 2, 7, 11, 0, 12, 9, 5, 12, 0]\n",
      "Actual\n",
      "[1, 6, 12, 5, 10, 6, 1, 4, 1, 4, 3, 9, 9, 9, 11, 11, 9, 9, 7, 3, 10, 3, 0, 1, 9, 12, 0, 10, 13, 12, 12, 5, 5, 1, 12, 10, 7, 5, 8, 5, 6, 7, 6, 3, 10, 0, 10, 13, 5, 10, 4, 2, 7, 11, 0, 2, 9, 5, 12, 9]\n"
     ]
    }
   ],
   "source": [
    "ans=model_2.predict(X_test[0:60])\n",
    "print(\"Input\")\n",
    "# print(X_test[0:20])\n",
    "print(\"Ans\")\n",
    "print([np.argmax(x) for x in ans])\n",
    "print(\"Actual\")\n",
    "print([np.argmax(x) for x in onehotlabels_test[0:60]])"
   ]
  },
  {
   "cell_type": "code",
   "execution_count": 68,
   "metadata": {
    "colab": {
     "base_uri": "https://localhost:8080/",
     "height": 84
    },
    "colab_type": "code",
    "id": "4IxpLD9hkLGZ",
    "outputId": "09497331-0783-4117-8a33-203b927637e0"
   },
   "outputs": [
    {
     "name": "stdout",
     "output_type": "stream",
     "text": [
      "172/172 [==============================] - 0s 494us/step\n",
      "\n",
      "\n",
      "accuracy= 0.7093023241952409\n"
     ]
    }
   ],
   "source": [
    "scores = model_2.evaluate(X_test, onehotlabels_test)\n",
    "print('\\n')\n",
    "print('accuracy=',scores[1])"
   ]
  },
  {
   "cell_type": "code",
   "execution_count": 0,
   "metadata": {
    "colab": {},
    "colab_type": "code",
    "id": "sv818Fw-kLDl"
   },
   "outputs": [],
   "source": [
    "model_2.save('model_2_a.h5')"
   ]
  },
  {
   "cell_type": "code",
   "execution_count": 111,
   "metadata": {
    "colab": {
     "base_uri": "https://localhost:8080/",
     "height": 865
    },
    "colab_type": "code",
    "id": "NPB3B0a0rcLc",
    "outputId": "752019c9-3489-4fe2-8086-6186aeb50558"
   },
   "outputs": [
    {
     "data": {
      "image/png": "[encoded data removed]",
      "text/plain": [
       "<IPython.core.display.Image object>"
      ]
     },
     "execution_count": 111,
     "metadata": {
      "tags": []
     },
     "output_type": "execute_result"
    }
   ],
   "source": [
    "plot_model(model_2, to_file='model2.png', show_shapes=True, show_layer_names=True)"
   ]
  },
  {
   "cell_type": "markdown",
   "metadata": {
    "colab_type": "text",
    "id": "cHWZp395lMoQ"
   },
   "source": [
    "## Model 3"
   ]
  },
  {
   "cell_type": "code",
   "execution_count": 0,
   "metadata": {
    "colab": {},
    "colab_type": "code",
    "id": "thQSjHcPmNOo"
   },
   "outputs": [],
   "source": [
    "from keras.layers import Dropout"
   ]
  },
  {
   "cell_type": "code",
   "execution_count": 0,
   "metadata": {
    "colab": {},
    "colab_type": "code",
    "id": "fE8y0moylPKz"
   },
   "outputs": [],
   "source": [
    "model_3 = Sequential() \n",
    "model_3.add(Dense(units=1024, input_dim=X_test.shape[1], kernel_initializer='RandomNormal', activation='elu'))\n",
    "model_3.add(Dense(units=512,kernel_initializer='RandomNormal', activation='selu'))\n",
    "model_3.add(Dropout(0.3));\n",
    "model_3.add(Dense(units=256,kernel_initializer='RandomNormal', activation='selu'))\n",
    "model_3.add(Dense(units=128,kernel_initializer='RandomNormal', activation='selu'))\n",
    "model_3.add(Dense(units=64,kernel_initializer='RandomNormal', activation='selu'))\n",
    "model_3.add(Dense(units=32,kernel_initializer='RandomNormal', activation='selu'))\n",
    "model_3.add(Dense(units=14,kernel_initializer='uniform', activation='softmax'))\n",
    "\n",
    "\n",
    "model_3.compile(loss='categorical_crossentropy',optimizer='adam', metrics=['accuracy'])"
   ]
  },
  {
   "cell_type": "code",
   "execution_count": 94,
   "metadata": {
    "colab": {
     "base_uri": "https://localhost:8080/",
     "height": 538
    },
    "colab_type": "code",
    "id": "5oHirItMlPFi",
    "outputId": "480973d9-2aa9-48d3-fcea-ed3042845f9e"
   },
   "outputs": [
    {
     "name": "stdout",
     "output_type": "stream",
     "text": [
      "Train on 681 samples, validate on 293 samples\n",
      "Epoch 1/15\n",
      " - 3s - loss: 2.5479 - acc: 0.1894 - val_loss: 2.3925 - val_acc: 0.2594\n",
      "Epoch 2/15\n",
      " - 1s - loss: 2.0329 - acc: 0.4097 - val_loss: 1.8353 - val_acc: 0.3481\n",
      "Epoch 3/15\n",
      " - 1s - loss: 1.3574 - acc: 0.4963 - val_loss: 1.4492 - val_acc: 0.4983\n",
      "Epoch 4/15\n",
      " - 1s - loss: 0.8770 - acc: 0.7181 - val_loss: 1.3249 - val_acc: 0.5973\n",
      "Epoch 5/15\n",
      " - 1s - loss: 0.5012 - acc: 0.8561 - val_loss: 1.2777 - val_acc: 0.6621\n",
      "Epoch 6/15\n",
      " - 1s - loss: 0.2595 - acc: 0.9280 - val_loss: 1.4735 - val_acc: 0.6860\n",
      "Epoch 7/15\n",
      " - 1s - loss: 0.1663 - acc: 0.9530 - val_loss: 1.5968 - val_acc: 0.6689\n",
      "Epoch 8/15\n",
      " - 1s - loss: 0.0968 - acc: 0.9692 - val_loss: 1.6380 - val_acc: 0.7167\n",
      "Epoch 9/15\n",
      " - 1s - loss: 0.0784 - acc: 0.9794 - val_loss: 1.7951 - val_acc: 0.6894\n",
      "Epoch 10/15\n",
      " - 1s - loss: 0.0865 - acc: 0.9721 - val_loss: 1.8367 - val_acc: 0.6860\n",
      "Epoch 11/15\n",
      " - 1s - loss: 0.0470 - acc: 0.9853 - val_loss: 1.8528 - val_acc: 0.6860\n",
      "Epoch 12/15\n",
      " - 1s - loss: 0.0350 - acc: 0.9883 - val_loss: 1.8345 - val_acc: 0.6962\n",
      "Epoch 13/15\n",
      " - 1s - loss: 0.0365 - acc: 0.9853 - val_loss: 2.0130 - val_acc: 0.6758\n",
      "Epoch 14/15\n",
      " - 1s - loss: 0.0425 - acc: 0.9853 - val_loss: 2.0602 - val_acc: 0.6860\n",
      "Epoch 15/15\n",
      " - 1s - loss: 0.0328 - acc: 0.9868 - val_loss: 2.2259 - val_acc: 0.6621\n"
     ]
    }
   ],
   "source": [
    "train_history_3 = model_3.fit(x=X_train, y=onehotlabels_train,  \n",
    "                          validation_split=0.3, epochs=15, \n",
    "                          batch_size=64, verbose=2) "
   ]
  },
  {
   "cell_type": "code",
   "execution_count": 95,
   "metadata": {
    "colab": {
     "base_uri": "https://localhost:8080/",
     "height": 295
    },
    "colab_type": "code",
    "id": "Z9QDbyz-lPDl",
    "outputId": "fc3f63e4-9fb6-4923-b648-97efa17b1d49"
   },
   "outputs": [
    {
     "data": {
      "image/png": "[encoded data removed]",
      "text/plain": [
       "<Figure size 432x288 with 1 Axes>"
      ]
     },
     "metadata": {
      "tags": []
     },
     "output_type": "display_data"
    }
   ],
   "source": [
    "plt.plot(train_history_3.history['acc'])\n",
    "plt.plot(train_history_3.history['val_acc'])\n",
    "plt.title('model accuracy')\n",
    "plt.ylabel('accuracy')\n",
    "plt.xlabel('epoch')\n",
    "plt.legend(['train', 'test'], loc='lower right')\n",
    "plt.show()"
   ]
  },
  {
   "cell_type": "code",
   "execution_count": 96,
   "metadata": {
    "colab": {
     "base_uri": "https://localhost:8080/",
     "height": 295
    },
    "colab_type": "code",
    "id": "7__xH_IIlPAo",
    "outputId": "9cec2ae3-5278-4f17-a786-326c6a6de41b"
   },
   "outputs": [
    {
     "data": {
      "image/png": "[encoded data removed]",
      "text/plain": [
       "<Figure size 432x288 with 1 Axes>"
      ]
     },
     "metadata": {
      "tags": []
     },
     "output_type": "display_data"
    }
   ],
   "source": [
    "plt.plot(train_history_3.history['loss'])\n",
    "plt.plot(train_history_3.history['val_loss'])\n",
    "plt.title('model loss')\n",
    "plt.ylabel('loss')\n",
    "plt.xlabel('epoch')\n",
    "plt.legend(['train', 'test'], loc='upper right')\n",
    "plt.show()"
   ]
  },
  {
   "cell_type": "code",
   "execution_count": 97,
   "metadata": {
    "colab": {
     "base_uri": "https://localhost:8080/",
     "height": 121
    },
    "colab_type": "code",
    "id": "RZx6xKKelZav",
    "outputId": "c9c1cf63-c789-4854-81a1-0e739d7c5803"
   },
   "outputs": [
    {
     "name": "stdout",
     "output_type": "stream",
     "text": [
      "Input\n",
      "Ans\n",
      "[1, 6, 12, 5, 9, 6, 1, 4, 1, 7, 5, 5, 9, 9, 11, 11, 12, 8, 2, 3, 10, 3, 9, 1, 6, 12, 9, 10, 13, 12, 12, 10, 5, 1, 12, 5, 7, 5, 8, 5, 6, 7, 7, 3, 9, 0, 6, 13, 5, 10, 4, 2, 7, 11, 0, 12, 9, 5, 12, 0]\n",
      "Actual\n",
      "[1, 6, 12, 5, 10, 6, 1, 4, 1, 4, 3, 9, 9, 9, 11, 11, 9, 9, 7, 3, 10, 3, 0, 1, 9, 12, 0, 10, 13, 12, 12, 5, 5, 1, 12, 10, 7, 5, 8, 5, 6, 7, 6, 3, 10, 0, 10, 13, 5, 10, 4, 2, 7, 11, 0, 2, 9, 5, 12, 9]\n"
     ]
    }
   ],
   "source": [
    "ans=model_3.predict(X_test[0:60])\n",
    "print(\"Input\")\n",
    "# print(X_test[0:20])\n",
    "print(\"Ans\")\n",
    "print([np.argmax(x) for x in ans])\n",
    "print(\"Actual\")\n",
    "print([np.argmax(x) for x in onehotlabels_test[0:60]])"
   ]
  },
  {
   "cell_type": "code",
   "execution_count": 98,
   "metadata": {
    "colab": {
     "base_uri": "https://localhost:8080/",
     "height": 84
    },
    "colab_type": "code",
    "id": "txDkHEYhlO8V",
    "outputId": "a08b09cc-7dfd-406e-87e8-2ac499fa1197"
   },
   "outputs": [
    {
     "name": "stdout",
     "output_type": "stream",
     "text": [
      "172/172 [==============================] - 0s 457us/step\n",
      "\n",
      "\n",
      "accuracy= 0.7267441846603571\n"
     ]
    }
   ],
   "source": [
    "scores = model_3.evaluate(X_test, onehotlabels_test)\n",
    "print('\\n')\n",
    "print('accuracy=',scores[1])"
   ]
  },
  {
   "cell_type": "code",
   "execution_count": 0,
   "metadata": {
    "colab": {},
    "colab_type": "code",
    "id": "s1vXkRTGldaQ"
   },
   "outputs": [],
   "source": [
    "model_3.save('model_3_a.h5')"
   ]
  },
  {
   "cell_type": "code",
   "execution_count": 112,
   "metadata": {
    "colab": {
     "base_uri": "https://localhost:8080/",
     "height": 976
    },
    "colab_type": "code",
    "id": "mUccr9lBrhAL",
    "outputId": "befd42d4-de37-4269-94d7-13b91bcb5c60"
   },
   "outputs": [
    {
     "data": {
      "image/png": "[encoded data removed]",
      "text/plain": [
       "<IPython.core.display.Image object>"
      ]
     },
     "execution_count": 112,
     "metadata": {
      "tags": []
     },
     "output_type": "execute_result"
    }
   ],
   "source": [
    "plot_model(model_3, to_file='model3.png', show_shapes=True, show_layer_names=True)"
   ]
  },
  {
   "cell_type": "markdown",
   "metadata": {
    "colab_type": "text",
    "id": "5ukii4d7dd4W"
   },
   "source": [
    "# Creating Job Recommendations \n",
    "Recommends 2 job position alternatives given a job requirement. By obtaining probability of class predictions, and picking the top N predictions, other than true label, N closest recommendations can be got"
   ]
  },
  {
   "cell_type": "code",
   "execution_count": 0,
   "metadata": {
    "colab": {},
    "colab_type": "code",
    "id": "232wSGmVdeI-"
   },
   "outputs": [],
   "source": [
    "preds_data = {'Current Position': [], 'Current Position Requirments': [], 'Alternative 1': [], 'Alternative 2': []}\n",
    "y_preds_proba = logistic.predict_proba(X_test)\n",
    "\n",
    "counter = 0 \n",
    "for idx, (pred_row, true_job_position) in enumerate(zip(y_preds_proba, y_test)):\n",
    "    class_preds = np.argsort(pred_row)\n",
    "    # delete true class\n",
    "    for i in [-1, -2]:\n",
    "        if class_preds[i] == true_job_position:\n",
    "            class_preds=np.delete(class_preds,i)\n",
    "    # getting other 2 highest job predictions         \n",
    "    top_classes = class_preds[-2:]\n",
    "    # obtaining class name string from int label \n",
    "    class_names = enc.inverse_transform(top_classes)\n",
    "    true_job_position_name = enc.inverse_transform([true_job_position])\n",
    "    # saving to dict\n",
    "    preds_data['Current Position'].append(true_job_position_name[0])\n",
    "    preds_data['Current Position Requirments'].append(X_test_words.iloc[idx])\n",
    "    preds_data['Alternative 1'].append(class_names[1])\n",
    "    preds_data['Alternative 2'].append(class_names[0])\n",
    "    \n",
    "    counter +=1"
   ]
  },
  {
   "cell_type": "code",
   "execution_count": 0,
   "metadata": {
    "colab": {},
    "colab_type": "code",
    "id": "7NzVwYlsdhmG"
   },
   "outputs": [],
   "source": [
    "preds_df = pd.DataFrame.from_dict(preds_data)"
   ]
  },
  {
   "cell_type": "code",
   "execution_count": 174,
   "metadata": {
    "colab": {
     "base_uri": "https://localhost:8080/",
     "height": 195
    },
    "colab_type": "code",
    "id": "FqDwKQTt6kYf",
    "outputId": "faa9b1de-fa25-4fbf-b4f6-64d836aa3d9a"
   },
   "outputs": [
    {
     "data": {
      "text/html": [
       "<div>\n",
       "<style scoped>\n",
       "    .dataframe tbody tr th:only-of-type {\n",
       "        vertical-align: middle;\n",
       "    }\n",
       "\n",
       "    .dataframe tbody tr th {\n",
       "        vertical-align: top;\n",
       "    }\n",
       "\n",
       "    .dataframe thead th {\n",
       "        text-align: right;\n",
       "    }\n",
       "</style>\n",
       "<table border=\"1\" class=\"dataframe\">\n",
       "  <thead>\n",
       "    <tr style=\"text-align: right;\">\n",
       "      <th></th>\n",
       "      <th>Current Position</th>\n",
       "      <th>Current Position Requirments</th>\n",
       "      <th>Alternative 1</th>\n",
       "      <th>Alternative 2</th>\n",
       "    </tr>\n",
       "  </thead>\n",
       "  <tbody>\n",
       "    <tr>\n",
       "      <th>0</th>\n",
       "      <td>Android Developer</td>\n",
       "      <td>From 1 to 5 years of experience in Android dev...</td>\n",
       "      <td>iOS Developer</td>\n",
       "      <td>Software Engineer</td>\n",
       "    </tr>\n",
       "    <tr>\n",
       "      <th>1</th>\n",
       "      <td>PHP Developer</td>\n",
       "      <td>University degree in the appropriate field of ...</td>\n",
       "      <td>Web Developer</td>\n",
       "      <td>Software Developer</td>\n",
       "    </tr>\n",
       "    <tr>\n",
       "      <th>2</th>\n",
       "      <td>Web Developer</td>\n",
       "      <td>At least 3 years of experience with PHP and Ja...</td>\n",
       "      <td>Software Engineer</td>\n",
       "      <td>PHP Developer</td>\n",
       "    </tr>\n",
       "    <tr>\n",
       "      <th>3</th>\n",
       "      <td>Java Developer</td>\n",
       "      <td>At least 3 years of work experience as a Java ...</td>\n",
       "      <td>Software Engineer</td>\n",
       "      <td>Software Developer</td>\n",
       "    </tr>\n",
       "    <tr>\n",
       "      <th>4</th>\n",
       "      <td>Software Engineer</td>\n",
       "      <td>Bachelor??s degree in Engineering or Informati...</td>\n",
       "      <td>Software Developer</td>\n",
       "      <td>Web Developer</td>\n",
       "    </tr>\n",
       "  </tbody>\n",
       "</table>\n",
       "</div>"
      ],
      "text/plain": [
       "    Current Position  ...       Alternative 2\n",
       "0  Android Developer  ...   Software Engineer\n",
       "1      PHP Developer  ...  Software Developer\n",
       "2      Web Developer  ...       PHP Developer\n",
       "3     Java Developer  ...  Software Developer\n",
       "4  Software Engineer  ...       Web Developer\n",
       "\n",
       "[5 rows x 4 columns]"
      ]
     },
     "execution_count": 174,
     "metadata": {
      "tags": []
     },
     "output_type": "execute_result"
    }
   ],
   "source": [
    "preds_df.head()"
   ]
  },
  {
   "cell_type": "markdown",
   "metadata": {
    "colab_type": "text",
    "id": "WULeBM2NDPYJ"
   },
   "source": [
    "# Inference on user provided data"
   ]
  },
  {
   "cell_type": "markdown",
   "metadata": {
    "colab_type": "text",
    "id": "ZtF8UhkFEFWO"
   },
   "source": [
    "**Get a single instance for testing**"
   ]
  },
  {
   "cell_type": "code",
   "execution_count": 167,
   "metadata": {
    "colab": {
     "base_uri": "https://localhost:8080/",
     "height": 54
    },
    "colab_type": "code",
    "id": "fGNs0iH-DjJj",
    "outputId": "ac8e3ffc-82f6-4848-e1cd-fb4782d429cf"
   },
   "outputs": [
    {
     "data": {
      "text/plain": [
       "'From 1 to 5 years of experience in Android development; Fast learner; Good team player with the ability to accept criticism; Experience in streaming and SIP technologies is a plus.'"
      ]
     },
     "execution_count": 167,
     "metadata": {
      "tags": []
     },
     "output_type": "execute_result"
    }
   ],
   "source": [
    "inference_test=X_test_words.iloc[0]\n",
    "inference_test"
   ]
  },
  {
   "cell_type": "markdown",
   "metadata": {
    "colab_type": "text",
    "id": "WYNg2ihkEKou"
   },
   "source": [
    "**Vectorise the inference_test**"
   ]
  },
  {
   "cell_type": "code",
   "execution_count": 0,
   "metadata": {
    "colab": {},
    "colab_type": "code",
    "id": "IneQvgAj6ldf"
   },
   "outputs": [],
   "source": [
    "inference_test_vectorized = vectorizer.transform([inference_test])\n",
    "inference_test_vectorized = inference_test_vectorized.toarray()"
   ]
  },
  {
   "cell_type": "code",
   "execution_count": 169,
   "metadata": {
    "colab": {
     "base_uri": "https://localhost:8080/",
     "height": 34
    },
    "colab_type": "code",
    "id": "JSvDpGLBET3T",
    "outputId": "7e47f7d8-7f05-4433-85bf-c02106be332c"
   },
   "outputs": [
    {
     "data": {
      "text/plain": [
       "array([[0., 0., 0., ..., 0., 0., 0.]])"
      ]
     },
     "execution_count": 169,
     "metadata": {
      "tags": []
     },
     "output_type": "execute_result"
    }
   ],
   "source": [
    "inference_test_vectorized"
   ]
  },
  {
   "cell_type": "markdown",
   "metadata": {
    "colab_type": "text",
    "id": "-5U0jQ04E4Hn"
   },
   "source": [
    "**Get Job Recommendation**"
   ]
  },
  {
   "cell_type": "code",
   "execution_count": 0,
   "metadata": {
    "colab": {},
    "colab_type": "code",
    "id": "A7gqmjyLE1Gv"
   },
   "outputs": [],
   "source": [
    "inference_preds_data = {'Current Position': [], 'Current Position Requirments': [], 'Alternative 1': [], 'Alternative 2': []}\n",
    "inference_y_preds_proba = logistic.predict_proba(inference_test_vectorized)\n",
    "\n",
    "counter = 0 \n",
    "for idx, (pred_row, true_job_position) in enumerate(zip(inference_y_preds_proba, y_test)):\n",
    "    class_preds = np.argsort(pred_row)\n",
    "    # delete true class\n",
    "    for i in [-1, -2]:\n",
    "        if class_preds[i] == true_job_position:\n",
    "            class_preds=np.delete(class_preds,i)\n",
    "    # getting other 2 highest job predictions         \n",
    "    top_classes = class_preds[-2:]\n",
    "    # obtaining class name string from int label \n",
    "    class_names = enc.inverse_transform(top_classes)\n",
    "    true_job_position_name = enc.inverse_transform([true_job_position])\n",
    "    # saving to dict\n",
    "    inference_preds_data['Current Position'].append(true_job_position_name[0])\n",
    "    inference_preds_data['Current Position Requirments'].append(X_test_words.iloc[idx])\n",
    "    inference_preds_data['Alternative 1'].append(class_names[1])\n",
    "    inference_preds_data['Alternative 2'].append(class_names[0])\n",
    "    \n",
    "    counter +=1"
   ]
  },
  {
   "cell_type": "code",
   "execution_count": 171,
   "metadata": {
    "colab": {
     "base_uri": "https://localhost:8080/",
     "height": 77
    },
    "colab_type": "code",
    "id": "YTZpQaLJFMV-",
    "outputId": "82cc48fd-060d-439b-90bc-f1dbd76ff439"
   },
   "outputs": [
    {
     "data": {
      "text/html": [
       "<div>\n",
       "<style scoped>\n",
       "    .dataframe tbody tr th:only-of-type {\n",
       "        vertical-align: middle;\n",
       "    }\n",
       "\n",
       "    .dataframe tbody tr th {\n",
       "        vertical-align: top;\n",
       "    }\n",
       "\n",
       "    .dataframe thead th {\n",
       "        text-align: right;\n",
       "    }\n",
       "</style>\n",
       "<table border=\"1\" class=\"dataframe\">\n",
       "  <thead>\n",
       "    <tr style=\"text-align: right;\">\n",
       "      <th></th>\n",
       "      <th>Current Position</th>\n",
       "      <th>Current Position Requirments</th>\n",
       "      <th>Alternative 1</th>\n",
       "      <th>Alternative 2</th>\n",
       "    </tr>\n",
       "  </thead>\n",
       "  <tbody>\n",
       "    <tr>\n",
       "      <th>0</th>\n",
       "      <td>Android Developer</td>\n",
       "      <td>From 1 to 5 years of experience in Android dev...</td>\n",
       "      <td>iOS Developer</td>\n",
       "      <td>Software Engineer</td>\n",
       "    </tr>\n",
       "  </tbody>\n",
       "</table>\n",
       "</div>"
      ],
      "text/plain": [
       "    Current Position  ...      Alternative 2\n",
       "0  Android Developer  ...  Software Engineer\n",
       "\n",
       "[1 rows x 4 columns]"
      ]
     },
     "execution_count": 171,
     "metadata": {
      "tags": []
     },
     "output_type": "execute_result"
    }
   ],
   "source": [
    "inference_preds_df = pd.DataFrame.from_dict(inference_preds_data)\n",
    "inference_preds_df.head()"
   ]
  },
  {
   "cell_type": "markdown",
   "metadata": {
    "colab_type": "text",
    "id": "kd8SwK90U8Bs"
   },
   "source": [
    "**NN**"
   ]
  },
  {
   "cell_type": "code",
   "execution_count": 0,
   "metadata": {
    "colab": {},
    "colab_type": "code",
    "id": "1BrxxwxbFSYc"
   },
   "outputs": [],
   "source": [
    "inference_preds_data_nn = {'Current Position': [], 'Current Position Requirments': [], 'Alternative 1': [], 'Alternative 2': []}\n",
    "inference_y_preds_proba_nn = model_3.predict_proba(inference_test_vectorized)\n",
    "\n",
    "counter = 0 \n",
    "for idx, (pred_row, true_job_position) in enumerate(zip(inference_y_preds_proba_nn, y_test)):\n",
    "    class_preds = np.argsort(pred_row)\n",
    "    # delete true class\n",
    "    for i in [-1, -2]:\n",
    "        if class_preds[i] == true_job_position:\n",
    "            class_preds=np.delete(class_preds,i)\n",
    "    # getting other 2 highest job predictions         \n",
    "    top_classes = class_preds[-2:]\n",
    "    # obtaining class name string from int label \n",
    "    class_names = enc.inverse_transform(top_classes)\n",
    "    true_job_position_name = enc.inverse_transform([true_job_position])\n",
    "    # saving to dict\n",
    "    inference_preds_data_nn['Current Position'].append(true_job_position_name[0])\n",
    "    inference_preds_data_nn['Current Position Requirments'].append(X_test_words.iloc[idx])\n",
    "    inference_preds_data_nn['Alternative 1'].append(class_names[1])\n",
    "    inference_preds_data_nn['Alternative 2'].append(class_names[0])\n",
    "    \n",
    "    counter +=1"
   ]
  },
  {
   "cell_type": "code",
   "execution_count": 183,
   "metadata": {
    "colab": {
     "base_uri": "https://localhost:8080/",
     "height": 77
    },
    "colab_type": "code",
    "id": "uqrtRl6-VBWK",
    "outputId": "f8eabb92-befe-4d7a-f59b-a4167074fb30"
   },
   "outputs": [
    {
     "data": {
      "text/html": [
       "<div>\n",
       "<style scoped>\n",
       "    .dataframe tbody tr th:only-of-type {\n",
       "        vertical-align: middle;\n",
       "    }\n",
       "\n",
       "    .dataframe tbody tr th {\n",
       "        vertical-align: top;\n",
       "    }\n",
       "\n",
       "    .dataframe thead th {\n",
       "        text-align: right;\n",
       "    }\n",
       "</style>\n",
       "<table border=\"1\" class=\"dataframe\">\n",
       "  <thead>\n",
       "    <tr style=\"text-align: right;\">\n",
       "      <th></th>\n",
       "      <th>Current Position</th>\n",
       "      <th>Current Position Requirments</th>\n",
       "      <th>Alternative 1</th>\n",
       "      <th>Alternative 2</th>\n",
       "    </tr>\n",
       "  </thead>\n",
       "  <tbody>\n",
       "    <tr>\n",
       "      <th>0</th>\n",
       "      <td>Android Developer</td>\n",
       "      <td>From 1 to 5 years of experience in Android dev...</td>\n",
       "      <td>iOS Developer</td>\n",
       "      <td>IT Specialist</td>\n",
       "    </tr>\n",
       "  </tbody>\n",
       "</table>\n",
       "</div>"
      ],
      "text/plain": [
       "    Current Position  ...  Alternative 2\n",
       "0  Android Developer  ...  IT Specialist\n",
       "\n",
       "[1 rows x 4 columns]"
      ]
     },
     "execution_count": 183,
     "metadata": {
      "tags": []
     },
     "output_type": "execute_result"
    }
   ],
   "source": [
    "inference_preds_df = pd.DataFrame.from_dict(inference_preds_data_nn)\n",
    "inference_preds_df.head()"
   ]
  }
 ],
 "metadata": {
  "colab": {
   "collapsed_sections": [],
   "name": "Job_V1.ipynb",
   "provenance": [],
   "toc_visible": true
  },
  "kernelspec": {
   "display_name": "Python 3",
   "language": "python",
   "name": "python3"
  },
  "language_info": {
   "codemirror_mode": {
    "name": "ipython",
    "version": 3
   },
   "file_extension": ".py",
   "mimetype": "text/x-python",
   "name": "python",
   "nbconvert_exporter": "python",
   "pygments_lexer": "ipython3",
   "version": "3.7.1"
  }
 },
 "nbformat": 4,
 "nbformat_minor": 1
}

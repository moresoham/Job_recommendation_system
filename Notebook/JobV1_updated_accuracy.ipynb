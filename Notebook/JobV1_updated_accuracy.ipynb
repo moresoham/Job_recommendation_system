{
  "nbformat": 4,
  "nbformat_minor": 0,
  "metadata": {
    "colab": {
      "name": "JobV1_updated_accuracy.ipynb",
      "provenance": [],
      "collapsed_sections": []
    },
    "kernelspec": {
      "name": "python3",
      "display_name": "Python 3"
    }
  },
  "cells": [
    {
      "cell_type": "code",
      "metadata": {
        "id": "y51HX7m3FE7a",
        "outputId": "c19be937-0a20-4648-f288-7312d2276a30",
        "colab": {
          "base_uri": "https://localhost:8080/",
          "height": 326
        }
      },
      "source": [
        "!pip install nltk==3.5"
      ],
      "execution_count": null,
      "outputs": [
        {
          "output_type": "stream",
          "text": [
            "Collecting nltk==3.5\n",
            "\u001b[?25l  Downloading https://files.pythonhosted.org/packages/92/75/ce35194d8e3022203cca0d2f896dbb88689f9b3fce8e9f9cff942913519d/nltk-3.5.zip (1.4MB)\n",
            "\u001b[K     |████████████████████████████████| 1.4MB 2.8MB/s \n",
            "\u001b[?25hRequirement already satisfied: click in /usr/local/lib/python3.6/dist-packages (from nltk==3.5) (7.1.2)\n",
            "Requirement already satisfied: joblib in /usr/local/lib/python3.6/dist-packages (from nltk==3.5) (0.16.0)\n",
            "Requirement already satisfied: regex in /usr/local/lib/python3.6/dist-packages (from nltk==3.5) (2019.12.20)\n",
            "Requirement already satisfied: tqdm in /usr/local/lib/python3.6/dist-packages (from nltk==3.5) (4.41.1)\n",
            "Building wheels for collected packages: nltk\n",
            "  Building wheel for nltk (setup.py) ... \u001b[?25l\u001b[?25hdone\n",
            "  Created wheel for nltk: filename=nltk-3.5-cp36-none-any.whl size=1434678 sha256=e45d61e08b60a7aaac77c8dd31c2192ec714ac77445c6742cd3529a2ee95baec\n",
            "  Stored in directory: /root/.cache/pip/wheels/ae/8c/3f/b1fe0ba04555b08b57ab52ab7f86023639a526d8bc8d384306\n",
            "Successfully built nltk\n",
            "Installing collected packages: nltk\n",
            "  Found existing installation: nltk 3.2.5\n",
            "    Uninstalling nltk-3.2.5:\n",
            "      Successfully uninstalled nltk-3.2.5\n",
            "Successfully installed nltk-3.5\n"
          ],
          "name": "stdout"
        }
      ]
    },
    {
      "cell_type": "code",
      "metadata": {
        "id": "mgSkpfxb4fx5",
        "outputId": "b13f1896-387d-44aa-a93b-8cc0e95d28c0",
        "colab": {
          "base_uri": "https://localhost:8080/",
          "height": 258
        }
      },
      "source": [
        "!pip install scikit-learn==0.23.2"
      ],
      "execution_count": null,
      "outputs": [
        {
          "output_type": "stream",
          "text": [
            "Collecting scikit-learn==0.23.2\n",
            "\u001b[?25l  Downloading https://files.pythonhosted.org/packages/5c/a1/273def87037a7fb010512bbc5901c31cfddfca8080bc63b42b26e3cc55b3/scikit_learn-0.23.2-cp36-cp36m-manylinux1_x86_64.whl (6.8MB)\n",
            "\u001b[K     |████████████████████████████████| 6.8MB 2.8MB/s \n",
            "\u001b[?25hRequirement already satisfied: scipy>=0.19.1 in /usr/local/lib/python3.6/dist-packages (from scikit-learn==0.23.2) (1.4.1)\n",
            "Requirement already satisfied: joblib>=0.11 in /usr/local/lib/python3.6/dist-packages (from scikit-learn==0.23.2) (0.16.0)\n",
            "Collecting threadpoolctl>=2.0.0\n",
            "  Downloading https://files.pythonhosted.org/packages/f7/12/ec3f2e203afa394a149911729357aa48affc59c20e2c1c8297a60f33f133/threadpoolctl-2.1.0-py3-none-any.whl\n",
            "Requirement already satisfied: numpy>=1.13.3 in /usr/local/lib/python3.6/dist-packages (from scikit-learn==0.23.2) (1.18.5)\n",
            "Installing collected packages: threadpoolctl, scikit-learn\n",
            "  Found existing installation: scikit-learn 0.22.2.post1\n",
            "    Uninstalling scikit-learn-0.22.2.post1:\n",
            "      Successfully uninstalled scikit-learn-0.22.2.post1\n",
            "Successfully installed scikit-learn-0.23.2 threadpoolctl-2.1.0\n"
          ],
          "name": "stdout"
        }
      ]
    },
    {
      "cell_type": "code",
      "metadata": {
        "id": "kY-nPpsAF_4C",
        "outputId": "515c2cce-83f2-4d35-8756-508c3a4c6e7f",
        "colab": {
          "base_uri": "https://localhost:8080/",
          "height": 51
        }
      },
      "source": [
        "import nltk\n",
        "import sklearn\n",
        "\n",
        "print('The nltk version is {}.'.format(nltk.__version__))\n",
        "print('The nltk version is {}.'.format(sklearn.__version__))"
      ],
      "execution_count": null,
      "outputs": [
        {
          "output_type": "stream",
          "text": [
            "The nltk version is 3.5.\n",
            "The nltk version is 0.23.2.\n"
          ],
          "name": "stdout"
        }
      ]
    },
    {
      "cell_type": "code",
      "metadata": {
        "id": "58C4w2I7tBXh",
        "outputId": "245d1f61-1876-4df3-828b-93d98d804b76",
        "colab": {
          "base_uri": "https://localhost:8080/",
          "height": 173
        }
      },
      "source": [
        "import pickle\n",
        "import numpy as np # linear algebra\n",
        "import pandas as pd # data processing, CSV file I/O (e.g. pd.read_csv)\n",
        "from sklearn.feature_extraction import DictVectorizer\n",
        "from sklearn.feature_extraction.text import CountVectorizer\n",
        "from sklearn.model_selection import train_test_split\n",
        "\n",
        "#Plotting\n",
        "import matplotlib.pyplot as plt\n",
        "import seaborn as sns\n",
        "\n",
        "# Natural Language Toolkit\n",
        "import nltk\n",
        "nltk.download('stopwords')\n",
        "nltk.download('punkt')\n",
        "nltk.download('wordnet')\n",
        "\n",
        "from nltk.corpus import stopwords\n",
        "from sklearn.preprocessing import LabelEncoder\n",
        "from sklearn.mixture import GaussianMixture\n",
        "from sklearn.cluster import KMeans\n",
        "from sklearn.metrics import accuracy_score, auc, roc_curve, roc_auc_score,confusion_matrix, classification_report,f1_score\n",
        "\n",
        "from sklearn.feature_extraction.text import TfidfVectorizer\n",
        "\n",
        "#Traditional ML Models\n",
        "from sklearn.naive_bayes import GaussianNB\n",
        "from sklearn.linear_model import LogisticRegression\n",
        "from sklearn.ensemble import RandomForestClassifier"
      ],
      "execution_count": null,
      "outputs": [
        {
          "output_type": "stream",
          "text": [
            "/usr/local/lib/python3.6/dist-packages/statsmodels/tools/_testing.py:19: FutureWarning: pandas.util.testing is deprecated. Use the functions in the public API at pandas.testing instead.\n",
            "  import pandas.util.testing as tm\n",
            "[nltk_data] Downloading package stopwords to /root/nltk_data...\n",
            "[nltk_data]   Unzipping corpora/stopwords.zip.\n",
            "[nltk_data] Downloading package punkt to /root/nltk_data...\n",
            "[nltk_data]   Unzipping tokenizers/punkt.zip.\n",
            "[nltk_data] Downloading package wordnet to /root/nltk_data...\n",
            "[nltk_data]   Unzipping corpora/wordnet.zip.\n"
          ],
          "name": "stderr"
        }
      ]
    },
    {
      "cell_type": "code",
      "metadata": {
        "id": "N8caBW8BtP71",
        "outputId": "3939820b-39b8-41ba-93a6-ef2877d78fb2",
        "colab": {
          "base_uri": "https://localhost:8080/",
          "height": 34
        }
      },
      "source": [
        "df = pd.read_csv('processed_jobs_dataset.csv')\n",
        "df.shape"
      ],
      "execution_count": null,
      "outputs": [
        {
          "output_type": "execute_result",
          "data": {
            "text/plain": [
              "(1146, 6)"
            ]
          },
          "metadata": {
            "tags": []
          },
          "execution_count": 5
        }
      ]
    },
    {
      "cell_type": "code",
      "metadata": {
        "id": "2jKWpNQntbGn",
        "outputId": "efcd0305-6456-40ac-9b2f-db5c8192474c",
        "colab": {
          "base_uri": "https://localhost:8080/",
          "height": 306
        }
      },
      "source": [
        "df.head()"
      ],
      "execution_count": null,
      "outputs": [
        {
          "output_type": "execute_result",
          "data": {
            "text/html": [
              "<div>\n",
              "<style scoped>\n",
              "    .dataframe tbody tr th:only-of-type {\n",
              "        vertical-align: middle;\n",
              "    }\n",
              "\n",
              "    .dataframe tbody tr th {\n",
              "        vertical-align: top;\n",
              "    }\n",
              "\n",
              "    .dataframe thead th {\n",
              "        text-align: right;\n",
              "    }\n",
              "</style>\n",
              "<table border=\"1\" class=\"dataframe\">\n",
              "  <thead>\n",
              "    <tr style=\"text-align: right;\">\n",
              "      <th></th>\n",
              "      <th>Unnamed: 0</th>\n",
              "      <th>RequiredQual</th>\n",
              "      <th>Eligibility</th>\n",
              "      <th>Title</th>\n",
              "      <th>JobDescription</th>\n",
              "      <th>JobRequirment</th>\n",
              "    </tr>\n",
              "  </thead>\n",
              "  <tbody>\n",
              "    <tr>\n",
              "      <th>0</th>\n",
              "      <td>4</td>\n",
              "      <td>University degree; economical background is a ...</td>\n",
              "      <td>NaN</td>\n",
              "      <td>Software Developer</td>\n",
              "      <td>NaN</td>\n",
              "      <td>- Rendering technical assistance to Database M...</td>\n",
              "    </tr>\n",
              "    <tr>\n",
              "      <th>1</th>\n",
              "      <td>19</td>\n",
              "      <td>As a GD you are creative, innovative and have ...</td>\n",
              "      <td>NaN</td>\n",
              "      <td>Graphic Designer</td>\n",
              "      <td>The position of Graphic Designer (GD) demands ...</td>\n",
              "      <td>Graphic Designer will be responsible for every...</td>\n",
              "    </tr>\n",
              "    <tr>\n",
              "      <th>2</th>\n",
              "      <td>35</td>\n",
              "      <td>Work experience of at least two years;  Knowle...</td>\n",
              "      <td>NaN</td>\n",
              "      <td>Programmer</td>\n",
              "      <td>NaN</td>\n",
              "      <td>NaN</td>\n",
              "    </tr>\n",
              "    <tr>\n",
              "      <th>3</th>\n",
              "      <td>76</td>\n",
              "      <td>Professional background in graphic design; Str...</td>\n",
              "      <td>NaN</td>\n",
              "      <td>Graphic Designer</td>\n",
              "      <td>Ameria CJSC is seeking qualified candidates fo...</td>\n",
              "      <td>- Design of company production packaging;\\r\\n-...</td>\n",
              "    </tr>\n",
              "    <tr>\n",
              "      <th>4</th>\n",
              "      <td>92</td>\n",
              "      <td>Degree in Computer Science, Information Techno...</td>\n",
              "      <td>NaN</td>\n",
              "      <td>Software Developer</td>\n",
              "      <td>Synergy International Systems, Inc./Armenia se...</td>\n",
              "      <td>Specific tasks and key responsibilities includ...</td>\n",
              "    </tr>\n",
              "  </tbody>\n",
              "</table>\n",
              "</div>"
            ],
            "text/plain": [
              "   Unnamed: 0  ...                                      JobRequirment\n",
              "0           4  ...  - Rendering technical assistance to Database M...\n",
              "1          19  ...  Graphic Designer will be responsible for every...\n",
              "2          35  ...                                                NaN\n",
              "3          76  ...  - Design of company production packaging;\\r\\n-...\n",
              "4          92  ...  Specific tasks and key responsibilities includ...\n",
              "\n",
              "[5 rows x 6 columns]"
            ]
          },
          "metadata": {
            "tags": []
          },
          "execution_count": 6
        }
      ]
    },
    {
      "cell_type": "code",
      "metadata": {
        "id": "2I8mftgatb_S"
      },
      "source": [
        "from nltk import word_tokenize          \n",
        "from nltk.stem import WordNetLemmatizer \n",
        "class LemmaTokenizer(object):\n",
        "    def __init__(self):\n",
        "        # lemmatize text - convert to base form \n",
        "        self.wnl = WordNetLemmatizer()\n",
        "        # creating stopwords list, to ignore lemmatizing stopwords \n",
        "        self.stopwords = stopwords.words('english')\n",
        "    def __call__(self, doc):\n",
        "        return [self.wnl.lemmatize(t) for t in word_tokenize(doc) if t not in self.stopwords]\n",
        "\n",
        "# removing new line characters, and certain hypen patterns                  \n",
        "df['RequiredQual']=df['RequiredQual'].apply(lambda x: x.replace('\\n', ' ').replace('\\r', '').replace('- ', ''). replace(' - ', ' to '))"
      ],
      "execution_count": null,
      "outputs": []
    },
    {
      "cell_type": "code",
      "metadata": {
        "id": "BG29wGPRthGs",
        "outputId": "1b03843f-76aa-423f-e554-ebfb51d48ae7",
        "colab": {
          "base_uri": "https://localhost:8080/",
          "height": 398
        }
      },
      "source": [
        "df.Title.value_counts().head(10).plot.bar(title=\"Top 10 Future Jobtitle\")"
      ],
      "execution_count": null,
      "outputs": [
        {
          "output_type": "execute_result",
          "data": {
            "text/plain": [
              "<matplotlib.axes._subplots.AxesSubplot at 0x7f34a5ed9d30>"
            ]
          },
          "metadata": {
            "tags": []
          },
          "execution_count": 8
        },
        {
          "output_type": "display_data",
          "data": {
            "image/png": "[encoded data removed]",
            "text/plain": [
              "<Figure size 432x288 with 1 Axes>"
            ]
          },
          "metadata": {
            "tags": [],
            "needs_background": "light"
          }
        }
      ]
    },
    {
      "cell_type": "code",
      "metadata": {
        "id": "6gr1oshh5UHb",
        "outputId": "c4fe20d9-4fa5-4341-895e-0d1398a0c97c",
        "colab": {
          "base_uri": "https://localhost:8080/",
          "height": 351
        }
      },
      "source": [
        "plt.figure(figsize=(17,5))\n",
        "sns.countplot(df['Title'])"
      ],
      "execution_count": null,
      "outputs": [
        {
          "output_type": "execute_result",
          "data": {
            "text/plain": [
              "<matplotlib.axes._subplots.AxesSubplot at 0x7f34a5e31c18>"
            ]
          },
          "metadata": {
            "tags": []
          },
          "execution_count": 9
        },
        {
          "output_type": "display_data",
          "data": {
            "image/png": "[encoded data removed]",
            "text/plain": [
              "<Figure size 1224x360 with 1 Axes>"
            ]
          },
          "metadata": {
            "tags": [],
            "needs_background": "light"
          }
        }
      ]
    },
    {
      "cell_type": "markdown",
      "metadata": {
        "id": "8PJdYSOMtpQn"
      },
      "source": [
        "Vectorize + Convert to array"
      ]
    },
    {
      "cell_type": "code",
      "metadata": {
        "id": "Gj9QF78GtkhC"
      },
      "source": [
        "# train features and labels \n",
        "y = df['Title']\n",
        "X = df['RequiredQual']"
      ],
      "execution_count": null,
      "outputs": []
    },
    {
      "cell_type": "code",
      "metadata": {
        "id": "JYBxc6UxtsW6",
        "outputId": "4d6ef6ca-948f-42a9-ad61-f4c0dcdf08fe",
        "colab": {
          "base_uri": "https://localhost:8080/",
          "height": 51
        }
      },
      "source": [
        "print(\"X Shape : \" + str(X.shape))\n",
        "print(\"y Shape : \" + str(y.shape))"
      ],
      "execution_count": null,
      "outputs": [
        {
          "output_type": "stream",
          "text": [
            "X Shape : (1146,)\n",
            "y Shape : (1146,)\n"
          ],
          "name": "stdout"
        }
      ]
    },
    {
      "cell_type": "code",
      "metadata": {
        "id": "0XwrnuGJtujH",
        "outputId": "8cc513b7-8255-4a48-cd62-d8d9538daeaf",
        "colab": {
          "base_uri": "https://localhost:8080/",
          "height": 122
        }
      },
      "source": [
        "print(\"Sample input\")\n",
        "print(X.iloc[0])\n",
        "print(\"**************\")\n",
        "print(\"Sample output\")\n",
        "print(y.iloc[0])"
      ],
      "execution_count": null,
      "outputs": [
        {
          "output_type": "stream",
          "text": [
            "Sample input\n",
            "University degree; economical background is a plus; Excellent knowledge of Windows 2000 Server, Networking TCP/ IP technologies, MS SQL 2000 Server, Visual Basic 6; At least 2 years of experience in database software development; Good knowledge of English. REMUNERATION:  Will be commensurate with the norms accepted in the Company.\n",
            "**************\n",
            "Sample output\n",
            "Software Developer\n"
          ],
          "name": "stdout"
        }
      ]
    },
    {
      "cell_type": "code",
      "metadata": {
        "id": "2jedNKbitxKF",
        "outputId": "367371e1-bdda-45bf-f307-0419cff6c3d0",
        "colab": {
          "base_uri": "https://localhost:8080/",
          "height": 105
        }
      },
      "source": [
        "# tdif feature rep \n",
        "vectorizer = TfidfVectorizer(tokenizer=LemmaTokenizer(), stop_words='english')\n",
        "vectorizer.fit(X)\n",
        "# transforming text to tdif features\n",
        "tfidf_matrix = vectorizer.transform(X)\n",
        "X_tdif = tfidf_matrix.toarray()"
      ],
      "execution_count": null,
      "outputs": [
        {
          "output_type": "stream",
          "text": [
            "/usr/local/lib/python3.6/dist-packages/sklearn/feature_extraction/text.py:484: UserWarning: The parameter 'token_pattern' will not be used since 'tokenizer' is not None'\n",
            "  warnings.warn(\"The parameter 'token_pattern' will not be used\"\n",
            "/usr/local/lib/python3.6/dist-packages/sklearn/feature_extraction/text.py:386: UserWarning: Your stop_words may be inconsistent with your preprocessing. Tokenizing the stop words generated tokens ['le', 'u'] not in stop_words.\n",
            "  'stop_words.' % sorted(inconsistent))\n"
          ],
          "name": "stderr"
        }
      ]
    },
    {
      "cell_type": "code",
      "metadata": {
        "id": "7gY6stx2z6_H",
        "outputId": "c5339b4c-ecd4-48b6-d726-b395e948c56b",
        "colab": {
          "base_uri": "https://localhost:8080/",
          "height": 34
        }
      },
      "source": [
        "X_tdif[0]"
      ],
      "execution_count": null,
      "outputs": [
        {
          "output_type": "execute_result",
          "data": {
            "text/plain": [
              "array([0., 0., 0., ..., 0., 0., 0.])"
            ]
          },
          "metadata": {
            "tags": []
          },
          "execution_count": 46
        }
      ]
    },
    {
      "cell_type": "code",
      "metadata": {
        "id": "WP6UmLQvt2Vs",
        "outputId": "d22ff986-df5d-4b2d-f6bd-ba1e9c155697",
        "colab": {
          "base_uri": "https://localhost:8080/",
          "height": 51
        }
      },
      "source": [
        "print(\"tfidf_matrix Shape : \" + str(tfidf_matrix.shape))\n",
        "print(\"X_tdif Shape : \" + str(X_tdif.shape))"
      ],
      "execution_count": null,
      "outputs": [
        {
          "output_type": "stream",
          "text": [
            "tfidf_matrix Shape : (1146, 2903)\n",
            "X_tdif Shape : (1146, 2903)\n"
          ],
          "name": "stdout"
        }
      ]
    },
    {
      "cell_type": "markdown",
      "metadata": {
        "id": "rnOX9vIBuAVh"
      },
      "source": [
        "Encoding text labels in categories"
      ]
    },
    {
      "cell_type": "code",
      "metadata": {
        "id": "lGQvYapst9lr"
      },
      "source": [
        "enc = LabelEncoder() \n",
        "enc.fit(y.values)\n",
        "y_enc=enc.transform(y.values)"
      ],
      "execution_count": null,
      "outputs": []
    },
    {
      "cell_type": "code",
      "metadata": {
        "id": "8xuOPgsZuDLF",
        "outputId": "3006f104-293c-4948-c062-9a32b5fa16f0",
        "colab": {
          "base_uri": "https://localhost:8080/",
          "height": 34
        }
      },
      "source": [
        "print(\"y_enc Shape : \" + str(y_enc.shape))"
      ],
      "execution_count": null,
      "outputs": [
        {
          "output_type": "stream",
          "text": [
            "y_enc Shape : (1146,)\n"
          ],
          "name": "stdout"
        }
      ]
    },
    {
      "cell_type": "code",
      "metadata": {
        "id": "CitLqa3C0uZV",
        "outputId": "0978b6b6-26d7-42ac-c7c5-897d08b98a3f",
        "colab": {
          "base_uri": "https://localhost:8080/",
          "height": 34
        }
      },
      "source": [
        "y_enc.max()"
      ],
      "execution_count": null,
      "outputs": [
        {
          "output_type": "execute_result",
          "data": {
            "text/plain": [
              "13"
            ]
          },
          "metadata": {
            "tags": []
          },
          "execution_count": 48
        }
      ]
    },
    {
      "cell_type": "code",
      "metadata": {
        "id": "Hv-ThAhDuFI8"
      },
      "source": [
        "X_train_words, X_test_words, y_train, y_test = train_test_split(X, y_enc, test_size=0.15, random_state=1)"
      ],
      "execution_count": null,
      "outputs": []
    },
    {
      "cell_type": "code",
      "metadata": {
        "id": "Om-4dZyxuI1t",
        "outputId": "d52e079a-73fd-43e1-9a3f-bc8c0bb066d4",
        "colab": {
          "base_uri": "https://localhost:8080/",
          "height": 85
        }
      },
      "source": [
        "print(\"X_train_words Shape : \" + str(X_train_words.shape))\n",
        "print(\"X_test_words Shape : \" + str(X_test_words.shape))\n",
        "print(\"y_train Shape : \" + str(y_train.shape))\n",
        "print(\"y_test Shape : \" + str(y_test.shape))"
      ],
      "execution_count": null,
      "outputs": [
        {
          "output_type": "stream",
          "text": [
            "X_train_words Shape : (974,)\n",
            "X_test_words Shape : (172,)\n",
            "y_train Shape : (974,)\n",
            "y_test Shape : (172,)\n"
          ],
          "name": "stdout"
        }
      ]
    },
    {
      "cell_type": "code",
      "metadata": {
        "id": "urXMpUoOuMVC",
        "outputId": "baf9922c-cef1-46b6-9294-21dddfc66492",
        "colab": {
          "base_uri": "https://localhost:8080/",
          "height": 34
        }
      },
      "source": [
        "X_train = vectorizer.transform(X_train_words)\n",
        "X_train = X_train.toarray()\n",
        "\n",
        "X_test = vectorizer.transform(X_test_words)\n",
        "X_test = X_test.toarray()\n",
        "X_test.shape"
      ],
      "execution_count": null,
      "outputs": [
        {
          "output_type": "execute_result",
          "data": {
            "text/plain": [
              "(172, 2903)"
            ]
          },
          "metadata": {
            "tags": []
          },
          "execution_count": 19
        }
      ]
    },
    {
      "cell_type": "code",
      "metadata": {
        "id": "4D67YDUsuPku",
        "outputId": "172ce1fd-93be-41a9-ed90-17d379ac7d5b",
        "colab": {
          "base_uri": "https://localhost:8080/",
          "height": 51
        }
      },
      "source": [
        "X_train[0]"
      ],
      "execution_count": null,
      "outputs": [
        {
          "output_type": "execute_result",
          "data": {
            "text/plain": [
              "array([0.        , 0.        , 0.13096519, ..., 0.        , 0.        ,\n",
              "       0.        ])"
            ]
          },
          "metadata": {
            "tags": []
          },
          "execution_count": 20
        }
      ]
    },
    {
      "cell_type": "code",
      "metadata": {
        "id": "Mj6E6-4fuTFA",
        "outputId": "8f9ba9eb-53f8-4d8c-ae42-d9229ca11083",
        "colab": {
          "base_uri": "https://localhost:8080/",
          "height": 34
        }
      },
      "source": [
        "y_train[0]"
      ],
      "execution_count": null,
      "outputs": [
        {
          "output_type": "execute_result",
          "data": {
            "text/plain": [
              "3"
            ]
          },
          "metadata": {
            "tags": []
          },
          "execution_count": 21
        }
      ]
    },
    {
      "cell_type": "markdown",
      "metadata": {
        "id": "0rGmEk4muaAO"
      },
      "source": [
        "Model 1 : Naive Bayes"
      ]
    },
    {
      "cell_type": "code",
      "metadata": {
        "id": "jqr7JbgNuVKf",
        "outputId": "1be4b8ea-8694-47af-dd9d-919d0a4eba99",
        "colab": {
          "base_uri": "https://localhost:8080/",
          "height": 51
        }
      },
      "source": [
        "gnb = GaussianNB()\n",
        "gnb.fit(X_train, y_train)\n",
        "train_preds = gnb.predict(X_train)\n",
        "test_preds = gnb.predict(X_test)\n",
        "\n",
        "print('Train acc: {0}'.format(accuracy_score(y_train, train_preds)))\n",
        "print('Test acc: {0}'.format(accuracy_score(y_test, test_preds)))"
      ],
      "execution_count": null,
      "outputs": [
        {
          "output_type": "stream",
          "text": [
            "Train acc: 0.9394250513347022\n",
            "Test acc: 0.7267441860465116\n"
          ],
          "name": "stdout"
        }
      ]
    },
    {
      "cell_type": "code",
      "metadata": {
        "id": "ArJt6voxudEl",
        "outputId": "338bdf24-a1e8-4836-f911-b659e6e42f05",
        "colab": {
          "base_uri": "https://localhost:8080/",
          "height": 391
        }
      },
      "source": [
        "print(\"Detailed classification report:\")\n",
        "y_true, gnb_pred = y_test, gnb.predict(X_test)\n",
        "print(classification_report(y_true, gnb_pred))"
      ],
      "execution_count": null,
      "outputs": [
        {
          "output_type": "stream",
          "text": [
            "Detailed classification report:\n",
            "              precision    recall  f1-score   support\n",
            "\n",
            "           0       0.73      0.85      0.79        13\n",
            "           1       0.60      0.75      0.67         4\n",
            "           2       0.82      0.75      0.78        12\n",
            "           3       0.73      0.73      0.73        11\n",
            "           4       0.70      0.70      0.70        10\n",
            "           5       0.77      0.95      0.85        21\n",
            "           6       0.89      0.73      0.80        11\n",
            "           7       1.00      0.67      0.80         9\n",
            "           8       0.00      0.00      0.00         4\n",
            "           9       0.59      0.45      0.51        22\n",
            "          10       0.58      0.65      0.61        17\n",
            "          11       0.91      0.83      0.87        12\n",
            "          12       0.68      0.89      0.77        19\n",
            "          13       1.00      0.71      0.83         7\n",
            "\n",
            "    accuracy                           0.73       172\n",
            "   macro avg       0.71      0.69      0.69       172\n",
            "weighted avg       0.73      0.73      0.72       172\n",
            "\n"
          ],
          "name": "stdout"
        }
      ]
    },
    {
      "cell_type": "code",
      "metadata": {
        "id": "hrtIFyMnuggp",
        "outputId": "67246e07-5038-46f7-f8e2-fde29a4c38b9",
        "colab": {
          "base_uri": "https://localhost:8080/",
          "height": 272
        }
      },
      "source": [
        "confusion = confusion_matrix(y_test, gnb_pred)\n",
        "print('Confusion Matrix:')\n",
        "print(confusion)"
      ],
      "execution_count": null,
      "outputs": [
        {
          "output_type": "stream",
          "text": [
            "Confusion Matrix:\n",
            "[[11  0  0  0  0  0  0  0  0  1  1  0  0  0]\n",
            " [ 0  3  0  0  0  1  0  0  0  0  0  0  0  0]\n",
            " [ 0  0  9  0  0  0  0  0  0  1  0  0  2  0]\n",
            " [ 0  0  0  8  1  0  0  0  0  0  0  0  2  0]\n",
            " [ 0  0  0  1  7  0  0  0  0  1  1  0  0  0]\n",
            " [ 0  0  0  0  0 20  0  0  0  0  1  0  0  0]\n",
            " [ 2  0  0  0  0  0  8  0  0  0  0  0  1  0]\n",
            " [ 0  0  0  0  0  0  1  6  0  2  0  0  0  0]\n",
            " [ 0  0  0  0  0  2  0  0  0  1  1  0  0  0]\n",
            " [ 0  0  2  1  1  2  0  0  2 10  3  0  1  0]\n",
            " [ 0  0  0  0  1  1  0  0  0  1 11  1  2  0]\n",
            " [ 1  0  0  0  0  0  0  0  0  0  1 10  0  0]\n",
            " [ 1  0  0  1  0  0  0  0  0  0  0  0 17  0]\n",
            " [ 0  2  0  0  0  0  0  0  0  0  0  0  0  5]]\n"
          ],
          "name": "stdout"
        }
      ]
    },
    {
      "cell_type": "code",
      "metadata": {
        "id": "Ssz-AwhSujjx"
      },
      "source": [
        "gnb_file = open('gnb_new1.pckl', 'wb')\n",
        "pickle.dump(gnb, gnb_file)\n",
        "gnb_file.close()"
      ],
      "execution_count": null,
      "outputs": []
    },
    {
      "cell_type": "code",
      "metadata": {
        "id": "YOVrDnGKuoqL",
        "outputId": "31039909-779f-4d07-9fec-92492256f230",
        "colab": {
          "base_uri": "https://localhost:8080/",
          "height": 34
        }
      },
      "source": [
        "gnb.get_params()"
      ],
      "execution_count": null,
      "outputs": [
        {
          "output_type": "execute_result",
          "data": {
            "text/plain": [
              "{'priors': None, 'var_smoothing': 1e-09}"
            ]
          },
          "metadata": {
            "tags": []
          },
          "execution_count": 26
        }
      ]
    },
    {
      "cell_type": "markdown",
      "metadata": {
        "id": "s-dPlX-qut_k"
      },
      "source": [
        "Model 2 : Logistic Regression"
      ]
    },
    {
      "cell_type": "code",
      "metadata": {
        "id": "zeYgYYguur4X",
        "outputId": "75722de7-0710-4550-d2b4-ab0571d2ba10",
        "colab": {
          "base_uri": "https://localhost:8080/",
          "height": 51
        }
      },
      "source": [
        "logistic = LogisticRegression(max_iter=1000,verbose=1, C=1)\n",
        "logistic.fit(X_train, y_train)\n",
        "train_preds = logistic.predict(X_train)\n",
        "test_preds = logistic.predict(X_test)"
      ],
      "execution_count": null,
      "outputs": [
        {
          "output_type": "stream",
          "text": [
            "[Parallel(n_jobs=1)]: Using backend SequentialBackend with 1 concurrent workers.\n",
            "[Parallel(n_jobs=1)]: Done   1 out of   1 | elapsed:    1.4s finished\n"
          ],
          "name": "stderr"
        }
      ]
    },
    {
      "cell_type": "code",
      "metadata": {
        "id": "gl25cFb7uz4i",
        "outputId": "0fc5b72c-9487-44d6-b05a-d7520c7d3eb2",
        "colab": {
          "base_uri": "https://localhost:8080/",
          "height": 51
        }
      },
      "source": [
        "print('Train acc: {0}'.format(accuracy_score(y_train, train_preds)))\n",
        "print('Test acc: {0}'.format(accuracy_score(y_test, test_preds)))"
      ],
      "execution_count": null,
      "outputs": [
        {
          "output_type": "stream",
          "text": [
            "Train acc: 0.8850102669404517\n",
            "Test acc: 0.7790697674418605\n"
          ],
          "name": "stdout"
        }
      ]
    },
    {
      "cell_type": "code",
      "metadata": {
        "id": "fLQqPhogu23q",
        "outputId": "f6157741-74c3-4d5c-b0b1-2df46949eafc",
        "colab": {
          "base_uri": "https://localhost:8080/",
          "height": 272
        }
      },
      "source": [
        "logistic.get_params()"
      ],
      "execution_count": null,
      "outputs": [
        {
          "output_type": "execute_result",
          "data": {
            "text/plain": [
              "{'C': 1,\n",
              " 'class_weight': None,\n",
              " 'dual': False,\n",
              " 'fit_intercept': True,\n",
              " 'intercept_scaling': 1,\n",
              " 'l1_ratio': None,\n",
              " 'max_iter': 1000,\n",
              " 'multi_class': 'auto',\n",
              " 'n_jobs': None,\n",
              " 'penalty': 'l2',\n",
              " 'random_state': None,\n",
              " 'solver': 'lbfgs',\n",
              " 'tol': 0.0001,\n",
              " 'verbose': 1,\n",
              " 'warm_start': False}"
            ]
          },
          "metadata": {
            "tags": []
          },
          "execution_count": 29
        }
      ]
    },
    {
      "cell_type": "code",
      "metadata": {
        "id": "VNH-MqX4u6ND",
        "outputId": "7c428618-72c4-4893-c909-43e7ba1a34d9",
        "colab": {
          "base_uri": "https://localhost:8080/",
          "height": 445
        }
      },
      "source": [
        "\n",
        "print(\"Detailed classification report:\")\n",
        "y_true, logistic_pred = y_test, logistic.predict(X_test)\n",
        "print(classification_report(y_true, logistic_pred))"
      ],
      "execution_count": null,
      "outputs": [
        {
          "output_type": "stream",
          "text": [
            "Detailed classification report:\n",
            "              precision    recall  f1-score   support\n",
            "\n",
            "           0       1.00      0.85      0.92        13\n",
            "           1       1.00      1.00      1.00         4\n",
            "           2       1.00      0.58      0.74        12\n",
            "           3       0.92      1.00      0.96        11\n",
            "           4       0.78      0.70      0.74        10\n",
            "           5       0.70      1.00      0.82        21\n",
            "           6       0.71      0.91      0.80        11\n",
            "           7       1.00      0.78      0.88         9\n",
            "           8       0.00      0.00      0.00         4\n",
            "           9       0.57      0.55      0.56        22\n",
            "          10       0.55      0.71      0.62        17\n",
            "          11       1.00      1.00      1.00        12\n",
            "          12       0.84      0.84      0.84        19\n",
            "          13       1.00      0.57      0.73         7\n",
            "\n",
            "    accuracy                           0.78       172\n",
            "   macro avg       0.79      0.75      0.76       172\n",
            "weighted avg       0.79      0.78      0.77       172\n",
            "\n"
          ],
          "name": "stdout"
        },
        {
          "output_type": "stream",
          "text": [
            "/usr/local/lib/python3.6/dist-packages/sklearn/metrics/_classification.py:1221: UndefinedMetricWarning: Precision and F-score are ill-defined and being set to 0.0 in labels with no predicted samples. Use `zero_division` parameter to control this behavior.\n",
            "  _warn_prf(average, modifier, msg_start, len(result))\n"
          ],
          "name": "stderr"
        }
      ]
    },
    {
      "cell_type": "code",
      "metadata": {
        "id": "iECUeqWYvLiY",
        "outputId": "8b5d6ee5-78f7-43b6-a6d3-62aecaa855eb",
        "colab": {
          "base_uri": "https://localhost:8080/",
          "height": 272
        }
      },
      "source": [
        "confusion = confusion_matrix(y_test, logistic_pred)\n",
        "print('Confusion Matrix:')\n",
        "print(confusion)"
      ],
      "execution_count": null,
      "outputs": [
        {
          "output_type": "stream",
          "text": [
            "Confusion Matrix:\n",
            "[[11  0  0  0  0  0  0  0  0  2  0  0  0  0]\n",
            " [ 0  4  0  0  0  0  0  0  0  0  0  0  0  0]\n",
            " [ 0  0  7  0  0  0  0  0  0  3  2  0  0  0]\n",
            " [ 0  0  0 11  0  0  0  0  0  0  0  0  0  0]\n",
            " [ 0  0  0  1  7  0  0  0  0  1  1  0  0  0]\n",
            " [ 0  0  0  0  0 21  0  0  0  0  0  0  0  0]\n",
            " [ 0  0  0  0  0  0 10  0  0  0  0  0  1  0]\n",
            " [ 0  0  0  0  0  1  1  7  0  0  0  0  0  0]\n",
            " [ 0  0  0  0  0  2  0  0  0  1  1  0  0  0]\n",
            " [ 0  0  0  0  1  3  2  0  0 12  2  0  2  0]\n",
            " [ 0  0  0  0  1  2  1  0  0  1 12  0  0  0]\n",
            " [ 0  0  0  0  0  0  0  0  0  0  0 12  0  0]\n",
            " [ 0  0  0  0  0  0  0  0  0  1  2  0 16  0]\n",
            " [ 0  0  0  0  0  1  0  0  0  0  2  0  0  4]]\n"
          ],
          "name": "stdout"
        }
      ]
    },
    {
      "cell_type": "code",
      "metadata": {
        "id": "1e5coLygvPd_"
      },
      "source": [
        "logistic_file = open('logistic_new1.pckl', 'wb')\n",
        "pickle.dump(logistic, logistic_file)\n",
        "logistic_file.close()"
      ],
      "execution_count": null,
      "outputs": []
    },
    {
      "cell_type": "markdown",
      "metadata": {
        "id": "ZAnYVZ-RvY-r"
      },
      "source": [
        "Model 3 : Random Forest"
      ]
    },
    {
      "cell_type": "code",
      "metadata": {
        "id": "XyBZkE7QvWyj"
      },
      "source": [
        "clf = RandomForestClassifier(n_estimators=135, max_depth=12,random_state=2)\n",
        "clf.fit(X_train, y_train)\n",
        "train_preds = clf.predict(X_train)\n",
        "test_preds = clf.predict(X_test)"
      ],
      "execution_count": null,
      "outputs": []
    },
    {
      "cell_type": "code",
      "metadata": {
        "id": "mJkHU260vluI",
        "outputId": "a1786eee-2eaf-45e4-af20-57232d60f493",
        "colab": {
          "base_uri": "https://localhost:8080/",
          "height": 51
        }
      },
      "source": [
        "print('Train acc: {0}'.format(accuracy_score(y_train, train_preds)))\n",
        "print('Test acc: {0}'.format(accuracy_score(y_test, test_preds)))"
      ],
      "execution_count": null,
      "outputs": [
        {
          "output_type": "stream",
          "text": [
            "Train acc: 0.9579055441478439\n",
            "Test acc: 0.8023255813953488\n"
          ],
          "name": "stdout"
        }
      ]
    },
    {
      "cell_type": "code",
      "metadata": {
        "id": "TiXI0JiKvr4c",
        "outputId": "9fe49e96-7512-40a1-df2c-12e6222ee8b7",
        "colab": {
          "base_uri": "https://localhost:8080/",
          "height": 445
        }
      },
      "source": [
        "print(\"Detailed classification report:\")\n",
        "y_true, clf_pred = y_test, clf.predict(X_test)\n",
        "print(classification_report(y_true, clf_pred))"
      ],
      "execution_count": null,
      "outputs": [
        {
          "output_type": "stream",
          "text": [
            "Detailed classification report:\n",
            "              precision    recall  f1-score   support\n",
            "\n",
            "           0       1.00      0.77      0.87        13\n",
            "           1       1.00      1.00      1.00         4\n",
            "           2       0.88      0.58      0.70        12\n",
            "           3       0.92      1.00      0.96        11\n",
            "           4       0.83      1.00      0.91        10\n",
            "           5       0.70      1.00      0.82        21\n",
            "           6       0.92      1.00      0.96        11\n",
            "           7       1.00      0.67      0.80         9\n",
            "           8       0.00      0.00      0.00         4\n",
            "           9       0.60      0.55      0.57        22\n",
            "          10       0.72      0.76      0.74        17\n",
            "          11       1.00      1.00      1.00        12\n",
            "          12       0.71      0.89      0.79        19\n",
            "          13       1.00      0.57      0.73         7\n",
            "\n",
            "    accuracy                           0.80       172\n",
            "   macro avg       0.81      0.77      0.77       172\n",
            "weighted avg       0.80      0.80      0.79       172\n",
            "\n"
          ],
          "name": "stdout"
        },
        {
          "output_type": "stream",
          "text": [
            "/usr/local/lib/python3.6/dist-packages/sklearn/metrics/_classification.py:1221: UndefinedMetricWarning: Precision and F-score are ill-defined and being set to 0.0 in labels with no predicted samples. Use `zero_division` parameter to control this behavior.\n",
            "  _warn_prf(average, modifier, msg_start, len(result))\n"
          ],
          "name": "stderr"
        }
      ]
    },
    {
      "cell_type": "code",
      "metadata": {
        "id": "G8HSsJ1DwMRA",
        "outputId": "e4b5b05f-87cf-48ac-8ed4-352e956aeff6",
        "colab": {
          "base_uri": "https://localhost:8080/",
          "height": 272
        }
      },
      "source": [
        "confusion = confusion_matrix(y_test, clf_pred)\n",
        "print('Confusion Matrix:')\n",
        "print(confusion)"
      ],
      "execution_count": null,
      "outputs": [
        {
          "output_type": "stream",
          "text": [
            "Confusion Matrix:\n",
            "[[10  0  0  0  0  0  0  0  0  2  0  0  1  0]\n",
            " [ 0  4  0  0  0  0  0  0  0  0  0  0  0  0]\n",
            " [ 0  0  7  0  0  0  0  0  0  3  2  0  0  0]\n",
            " [ 0  0  0 11  0  0  0  0  0  0  0  0  0  0]\n",
            " [ 0  0  0  0 10  0  0  0  0  0  0  0  0  0]\n",
            " [ 0  0  0  0  0 21  0  0  0  0  0  0  0  0]\n",
            " [ 0  0  0  0  0  0 11  0  0  0  0  0  0  0]\n",
            " [ 0  0  0  0  0  1  0  6  0  1  0  0  1  0]\n",
            " [ 0  0  0  0  0  2  0  0  0  1  1  0  0  0]\n",
            " [ 0  0  1  0  2  4  0  0  0 12  0  0  3  0]\n",
            " [ 0  0  0  0  0  2  1  0  0  1 13  0  0  0]\n",
            " [ 0  0  0  0  0  0  0  0  0  0  0 12  0  0]\n",
            " [ 0  0  0  1  0  0  0  0  0  0  1  0 17  0]\n",
            " [ 0  0  0  0  0  0  0  0  0  0  1  0  2  4]]\n"
          ],
          "name": "stdout"
        }
      ]
    },
    {
      "cell_type": "code",
      "metadata": {
        "id": "iIoc6RQZwUAE"
      },
      "source": [
        "randomforest_file = open('randomforest_new1.pckl', 'wb')\n",
        "pickle.dump(clf, randomforest_file)\n",
        "randomforest_file.close()"
      ],
      "execution_count": null,
      "outputs": []
    },
    {
      "cell_type": "code",
      "metadata": {
        "id": "Fyfn7AeAwX09",
        "outputId": "c11b00e5-d997-483f-cf60-19612f4a8adc",
        "colab": {
          "base_uri": "https://localhost:8080/",
          "height": 340
        }
      },
      "source": [
        "clf.get_params()"
      ],
      "execution_count": null,
      "outputs": [
        {
          "output_type": "execute_result",
          "data": {
            "text/plain": [
              "{'bootstrap': True,\n",
              " 'ccp_alpha': 0.0,\n",
              " 'class_weight': None,\n",
              " 'criterion': 'gini',\n",
              " 'max_depth': 12,\n",
              " 'max_features': 'auto',\n",
              " 'max_leaf_nodes': None,\n",
              " 'max_samples': None,\n",
              " 'min_impurity_decrease': 0.0,\n",
              " 'min_impurity_split': None,\n",
              " 'min_samples_leaf': 1,\n",
              " 'min_samples_split': 2,\n",
              " 'min_weight_fraction_leaf': 0.0,\n",
              " 'n_estimators': 135,\n",
              " 'n_jobs': None,\n",
              " 'oob_score': False,\n",
              " 'random_state': 2,\n",
              " 'verbose': 0,\n",
              " 'warm_start': False}"
            ]
          },
          "metadata": {
            "tags": []
          },
          "execution_count": 40
        }
      ]
    },
    {
      "cell_type": "markdown",
      "metadata": {
        "id": "qBzawBGpwjtF"
      },
      "source": [
        "Creating Job Recommendations\n",
        "\n",
        "Recommends 2 job position alternatives given a job requirement. By obtaining probability of class predictions, and picking the top N predictions, other than true label, N closest recommendations can be got"
      ]
    },
    {
      "cell_type": "code",
      "metadata": {
        "id": "ch75CYNpwbzp"
      },
      "source": [
        "preds_data = {'Current Position': [], 'Current Position Requirments': [], 'Alternative 1': [], 'Alternative 2': []}\n",
        "y_preds_proba = logistic.predict_proba(X_test)\n",
        "\n",
        "counter = 0 \n",
        "for idx, (pred_row, true_job_position) in enumerate(zip(y_preds_proba, y_test)):\n",
        "    class_preds = np.argsort(pred_row)\n",
        "    # delete true class\n",
        "    for i in [-1, -2]:\n",
        "        if class_preds[i] == true_job_position:\n",
        "            class_preds=np.delete(class_preds,i)\n",
        "    # getting other 2 highest job predictions         \n",
        "    top_classes = class_preds[-2:]\n",
        "    # obtaining class name string from int label \n",
        "    class_names = enc.inverse_transform(top_classes)\n",
        "    true_job_position_name = enc.inverse_transform([true_job_position])\n",
        "    # saving to dict\n",
        "    preds_data['Current Position'].append(true_job_position_name[0])\n",
        "    preds_data['Current Position Requirments'].append(X_test_words.iloc[idx])\n",
        "    preds_data['Alternative 1'].append(class_names[1])\n",
        "    preds_data['Alternative 2'].append(class_names[0])\n",
        "    \n",
        "    counter +=1"
      ],
      "execution_count": null,
      "outputs": []
    },
    {
      "cell_type": "code",
      "metadata": {
        "id": "WqzDA30ewv68"
      },
      "source": [
        "preds_df = pd.DataFrame.from_dict(preds_data)"
      ],
      "execution_count": null,
      "outputs": []
    },
    {
      "cell_type": "code",
      "metadata": {
        "id": "x6nAi4jMw6KE",
        "outputId": "b654922e-35d2-4481-8407-5c8af6b69979",
        "colab": {
          "base_uri": "https://localhost:8080/",
          "height": 359
        }
      },
      "source": [
        "preds_df.head(10)"
      ],
      "execution_count": null,
      "outputs": [
        {
          "output_type": "execute_result",
          "data": {
            "text/html": [
              "<div>\n",
              "<style scoped>\n",
              "    .dataframe tbody tr th:only-of-type {\n",
              "        vertical-align: middle;\n",
              "    }\n",
              "\n",
              "    .dataframe tbody tr th {\n",
              "        vertical-align: top;\n",
              "    }\n",
              "\n",
              "    .dataframe thead th {\n",
              "        text-align: right;\n",
              "    }\n",
              "</style>\n",
              "<table border=\"1\" class=\"dataframe\">\n",
              "  <thead>\n",
              "    <tr style=\"text-align: right;\">\n",
              "      <th></th>\n",
              "      <th>Current Position</th>\n",
              "      <th>Current Position Requirments</th>\n",
              "      <th>Alternative 1</th>\n",
              "      <th>Alternative 2</th>\n",
              "    </tr>\n",
              "  </thead>\n",
              "  <tbody>\n",
              "    <tr>\n",
              "      <th>0</th>\n",
              "      <td>IT Specialist</td>\n",
              "      <td>Degree in Computer Science or in similar disci...</td>\n",
              "      <td>Graphic Designer</td>\n",
              "      <td>Web Developer</td>\n",
              "    </tr>\n",
              "    <tr>\n",
              "      <th>1</th>\n",
              "      <td>Software Developer</td>\n",
              "      <td>Higher education in a relevant field; Good kno...</td>\n",
              "      <td>.NET Developer</td>\n",
              "      <td>Web Developer</td>\n",
              "    </tr>\n",
              "    <tr>\n",
              "      <th>2</th>\n",
              "      <td>Software Developer</td>\n",
              "      <td>At least 3 years of work experience in softwar...</td>\n",
              "      <td>Web Developer</td>\n",
              "      <td>Java Developer</td>\n",
              "    </tr>\n",
              "    <tr>\n",
              "      <th>3</th>\n",
              "      <td>.NET Developer</td>\n",
              "      <td>At least 4 years of experience in developing a...</td>\n",
              "      <td>Software Developer</td>\n",
              "      <td>Software Engineer</td>\n",
              "    </tr>\n",
              "    <tr>\n",
              "      <th>4</th>\n",
              "      <td>Programmer</td>\n",
              "      <td>Bachelor's degree in Computer Science or a rel...</td>\n",
              "      <td>PHP Developer</td>\n",
              "      <td>Web Developer</td>\n",
              "    </tr>\n",
              "    <tr>\n",
              "      <th>5</th>\n",
              "      <td>Database Admin/Dev</td>\n",
              "      <td>Strong experience with SQL Server and Transact...</td>\n",
              "      <td>Software Engineer</td>\n",
              "      <td>Software Developer</td>\n",
              "    </tr>\n",
              "    <tr>\n",
              "      <th>6</th>\n",
              "      <td>IT Specialist</td>\n",
              "      <td>Higher Technical education (preferably in IT s...</td>\n",
              "      <td>Database Admin/Dev</td>\n",
              "      <td>Software Developer</td>\n",
              "    </tr>\n",
              "    <tr>\n",
              "      <th>7</th>\n",
              "      <td>Java Developer</td>\n",
              "      <td>At least 5 years of work experience as a Softw...</td>\n",
              "      <td>Software Engineer</td>\n",
              "      <td>Web Developer</td>\n",
              "    </tr>\n",
              "    <tr>\n",
              "      <th>8</th>\n",
              "      <td>Database Admin/Dev</td>\n",
              "      <td>Bachelors degree in Computer Sciences or a rel...</td>\n",
              "      <td>Software Engineer</td>\n",
              "      <td>Software Developer</td>\n",
              "    </tr>\n",
              "    <tr>\n",
              "      <th>9</th>\n",
              "      <td>Software QA Engineer</td>\n",
              "      <td>Excellent knowledge of English language, both ...</td>\n",
              "      <td>Software Engineer</td>\n",
              "      <td>Java Developer</td>\n",
              "    </tr>\n",
              "  </tbody>\n",
              "</table>\n",
              "</div>"
            ],
            "text/plain": [
              "       Current Position  ...       Alternative 2\n",
              "0         IT Specialist  ...       Web Developer\n",
              "1    Software Developer  ...       Web Developer\n",
              "2    Software Developer  ...      Java Developer\n",
              "3        .NET Developer  ...   Software Engineer\n",
              "4            Programmer  ...       Web Developer\n",
              "5    Database Admin/Dev  ...  Software Developer\n",
              "6         IT Specialist  ...  Software Developer\n",
              "7        Java Developer  ...       Web Developer\n",
              "8    Database Admin/Dev  ...  Software Developer\n",
              "9  Software QA Engineer  ...      Java Developer\n",
              "\n",
              "[10 rows x 4 columns]"
            ]
          },
          "metadata": {
            "tags": []
          },
          "execution_count": 41
        }
      ]
    },
    {
      "cell_type": "markdown",
      "metadata": {
        "id": "2dIjNGlIxdjL"
      },
      "source": [
        "Inference on user provided data"
      ]
    },
    {
      "cell_type": "code",
      "metadata": {
        "id": "b5Udb8G0w8CJ",
        "outputId": "aab98282-1cf5-4ae3-aae4-38aeba85d30b",
        "colab": {
          "base_uri": "https://localhost:8080/",
          "height": 52
        }
      },
      "source": [
        "#inference_test=X_test_words.iloc[0]\n",
        "inference_test = 'From 1 to 5 years of experience in Android development; Fast learner; Good team player with the ability to accept criticism; Experience in streaming and SIP technologies is a plus.'\n",
        "inference_test"
      ],
      "execution_count": null,
      "outputs": [
        {
          "output_type": "execute_result",
          "data": {
            "application/vnd.google.colaboratory.intrinsic+json": {
              "type": "string"
            },
            "text/plain": [
              "'From 1 to 5 years of experience in Android development; Fast learner; Good team player with the ability to accept criticism; Experience in streaming and SIP technologies is a plus.'"
            ]
          },
          "metadata": {
            "tags": []
          },
          "execution_count": 56
        }
      ]
    },
    {
      "cell_type": "code",
      "metadata": {
        "id": "qxD6ANAAxlpW"
      },
      "source": [
        "inference_test_vectorized = vectorizer.transform([inference_test])\n",
        "inference_test_vectorized = inference_test_vectorized.toarray()"
      ],
      "execution_count": null,
      "outputs": []
    },
    {
      "cell_type": "code",
      "metadata": {
        "id": "Xr4Q0Rz8xrCq",
        "outputId": "db2c7a2a-88e1-4b36-a18c-ebffdaa77484",
        "colab": {
          "base_uri": "https://localhost:8080/",
          "height": 34
        }
      },
      "source": [
        "inference_test_vectorized"
      ],
      "execution_count": null,
      "outputs": [
        {
          "output_type": "execute_result",
          "data": {
            "text/plain": [
              "array([[0., 0., 0., ..., 0., 0., 0.]])"
            ]
          },
          "metadata": {
            "tags": []
          },
          "execution_count": 58
        }
      ]
    },
    {
      "cell_type": "markdown",
      "metadata": {
        "id": "CerTkzk9x3z4"
      },
      "source": [
        "Getting results"
      ]
    },
    {
      "cell_type": "code",
      "metadata": {
        "id": "0yMCrkjGxs0g"
      },
      "source": [
        "inference_preds_data = {'Current Position': [], 'Current Position Requirments': [], 'Alternative 1': [], 'Alternative 2': []}\n",
        "inference_y_preds_proba = clf.predict_proba(inference_test_vectorized)\n",
        "\n",
        "counter = 0 \n",
        "for idx, (pred_row, true_job_position) in enumerate(zip(inference_y_preds_proba, y_test)):\n",
        "    class_preds = np.argsort(pred_row)\n",
        "    # delete true class\n",
        "    for i in [-1, -2]:\n",
        "        if class_preds[i] == true_job_position:\n",
        "            class_preds=np.delete(class_preds,i)\n",
        "    # getting other 2 highest job predictions         \n",
        "    top_classes = class_preds[-2:]\n",
        "    # obtaining class name string from int label \n",
        "    class_names = enc.inverse_transform(top_classes)\n",
        "    true_job_position_name = enc.inverse_transform([true_job_position])\n",
        "    # saving to dict\n",
        "    inference_preds_data['Current Position'].append(true_job_position_name[0])\n",
        "    inference_preds_data['Current Position Requirments'].append(X_test_words.iloc[idx])\n",
        "    inference_preds_data['Alternative 1'].append(class_names[1])\n",
        "    inference_preds_data['Alternative 2'].append(class_names[0])\n",
        "    \n",
        "    counter +=1"
      ],
      "execution_count": null,
      "outputs": []
    },
    {
      "cell_type": "code",
      "metadata": {
        "id": "pBNuxE54x_rC",
        "outputId": "f13399c7-f8f6-43c1-839d-27c02153693f",
        "colab": {
          "base_uri": "https://localhost:8080/",
          "height": 80
        }
      },
      "source": [
        "inference_preds_df = pd.DataFrame.from_dict(inference_preds_data)\n",
        "inference_preds_df.head()"
      ],
      "execution_count": null,
      "outputs": [
        {
          "output_type": "execute_result",
          "data": {
            "text/html": [
              "<div>\n",
              "<style scoped>\n",
              "    .dataframe tbody tr th:only-of-type {\n",
              "        vertical-align: middle;\n",
              "    }\n",
              "\n",
              "    .dataframe tbody tr th {\n",
              "        vertical-align: top;\n",
              "    }\n",
              "\n",
              "    .dataframe thead th {\n",
              "        text-align: right;\n",
              "    }\n",
              "</style>\n",
              "<table border=\"1\" class=\"dataframe\">\n",
              "  <thead>\n",
              "    <tr style=\"text-align: right;\">\n",
              "      <th></th>\n",
              "      <th>Current Position</th>\n",
              "      <th>Current Position Requirments</th>\n",
              "      <th>Alternative 1</th>\n",
              "      <th>Alternative 2</th>\n",
              "    </tr>\n",
              "  </thead>\n",
              "  <tbody>\n",
              "    <tr>\n",
              "      <th>0</th>\n",
              "      <td>IT Specialist</td>\n",
              "      <td>Degree in Computer Science or in similar disci...</td>\n",
              "      <td>Android Developer</td>\n",
              "      <td>Software Engineer</td>\n",
              "    </tr>\n",
              "  </tbody>\n",
              "</table>\n",
              "</div>"
            ],
            "text/plain": [
              "  Current Position  ...      Alternative 2\n",
              "0    IT Specialist  ...  Software Engineer\n",
              "\n",
              "[1 rows x 4 columns]"
            ]
          },
          "metadata": {
            "tags": []
          },
          "execution_count": 64
        }
      ]
    },
    {
      "cell_type": "code",
      "metadata": {
        "id": "5v5Q8hesyAvb"
      },
      "source": [
        "def loadData(): \n",
        "    # for reading also binary mode is important \n",
        "    dbfile = open('/content/gnb_new1.pckl', 'rb')      \n",
        "    db = pickle.load(dbfile) \n",
        "    print(db.predict_proba(inference_test_vectorized))\n",
        "    dbfile.close() "
      ],
      "execution_count": null,
      "outputs": []
    },
    {
      "cell_type": "code",
      "metadata": {
        "id": "U6MCKVQagIS0",
        "outputId": "8e36b0e3-441a-4f3c-b164-7bba96e41b3b",
        "colab": {
          "base_uri": "https://localhost:8080/",
          "height": 85
        }
      },
      "source": [
        "loadData()"
      ],
      "execution_count": null,
      "outputs": [
        {
          "output_type": "stream",
          "text": [
            "[[0.00000000e+000 6.29005590e-203 0.00000000e+000 0.00000000e+000\n",
            "  0.00000000e+000 0.00000000e+000 0.00000000e+000 1.00000000e+000\n",
            "  0.00000000e+000 0.00000000e+000 0.00000000e+000 0.00000000e+000\n",
            "  0.00000000e+000 2.45945582e-093]]\n"
          ],
          "name": "stdout"
        }
      ]
    },
    {
      "cell_type": "code",
      "metadata": {
        "id": "po0adiGogKOu"
      },
      "source": [
        ""
      ],
      "execution_count": null,
      "outputs": []
    }
  ]
}